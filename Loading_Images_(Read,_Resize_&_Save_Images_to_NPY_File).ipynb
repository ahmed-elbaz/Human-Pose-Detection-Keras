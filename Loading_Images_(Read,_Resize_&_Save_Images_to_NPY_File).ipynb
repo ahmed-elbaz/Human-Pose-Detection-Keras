{
  "nbformat": 4,
  "nbformat_minor": 0,
  "metadata": {
    "colab": {
      "name": "Loading_Images_V1_3_Final (Read, Resize & Save Images to NPY File).ipynb",
      "provenance": [],
      "collapsed_sections": [],
      "machine_shape": "hm"
    },
    "kernelspec": {
      "name": "python3",
      "display_name": "Python 3"
    },
    "accelerator": "GPU"
  },
  "cells": [
    {
      "cell_type": "code",
      "metadata": {
        "id": "WhUFjGkEdEF1",
        "colab_type": "code",
        "colab": {}
      },
      "source": [
        "#loading libraries\n",
        "import matplotlib.pyplot as plt\n",
        "import matplotlib.image as mpimg\n",
        "import os\n",
        "import numpy as np\n",
        "import pandas as pd\n",
        "from google.colab import drive\n",
        "import cv2"
      ],
      "execution_count": 0,
      "outputs": []
    },
    {
      "cell_type": "code",
      "metadata": {
        "id": "yWNRIQZ4JfWB",
        "colab_type": "code",
        "outputId": "da8f4449-8693-4d61-c84c-bc2ad03edbe9",
        "colab": {
          "base_uri": "https://localhost:8080/",
          "height": 121
        }
      },
      "source": [
        "drive.mount('/content/gdrive')           # Mount google drive in order to read & process the dataset\n",
        "root_path = '/content/gdrive/My Drive/DL_Project/Dataset/images'  #change dir to your project folder\n",
        "root_path1 = '/content/gdrive/My Drive/DL_Project'  \n",
        "\n",
        "#/content/gdrive/My Drive/Colab Notebooks/DL_Project/Dataset/images"
      ],
      "execution_count": 0,
      "outputs": [
        {
          "output_type": "stream",
          "text": [
            "Go to this URL in a browser: https://accounts.google.com/o/oauth2/auth?client_id=947318989803-6bn6qk8qdgf4n4g3pfee6491hc0brc4i.apps.googleusercontent.com&redirect_uri=urn%3aietf%3awg%3aoauth%3a2.0%3aoob&response_type=code&scope=email%20https%3a%2f%2fwww.googleapis.com%2fauth%2fdocs.test%20https%3a%2f%2fwww.googleapis.com%2fauth%2fdrive%20https%3a%2f%2fwww.googleapis.com%2fauth%2fdrive.photos.readonly%20https%3a%2f%2fwww.googleapis.com%2fauth%2fpeopleapi.readonly\n",
            "\n",
            "Enter your authorization code:\n",
            "··········\n",
            "Mounted at /content/gdrive\n"
          ],
          "name": "stdout"
        }
      ]
    },
    {
      "cell_type": "code",
      "metadata": {
        "id": "VSwfZn8AWI09",
        "colab_type": "code",
        "outputId": "e7940d04-0a0d-4ae7-f3ab-2a2f296f250f",
        "colab": {
          "base_uri": "https://localhost:8080/",
          "height": 50
        }
      },
      "source": [
        "import os\n",
        "os.chdir(root_path)  #change dir\n",
        "print(os.getcwd())\n",
        "print(len(os.listdir()))"
      ],
      "execution_count": 0,
      "outputs": [
        {
          "output_type": "stream",
          "text": [
            "/content/gdrive/My Drive/DL_Project/Dataset/images\n",
            "24984\n"
          ],
          "name": "stdout"
        }
      ]
    },
    {
      "cell_type": "code",
      "metadata": {
        "id": "A1MK9yFFXqU2",
        "colab_type": "code",
        "colab": {}
      },
      "source": [
        "img_names = list(os.listdir()) #getting all images names in one list"
      ],
      "execution_count": 0,
      "outputs": []
    },
    {
      "cell_type": "code",
      "metadata": {
        "id": "7s2br3_pYMcI",
        "colab_type": "code",
        "outputId": "527ee9cb-f6f7-4cf5-f367-df8b58a03201",
        "colab": {
          "base_uri": "https://localhost:8080/",
          "height": 34
        }
      },
      "source": [
        "import numpy as np\n",
        "img_names_sorted = list(np.sort(img_names)) #sorted list ascending for image names\n",
        "len(img_names_sorted)"
      ],
      "execution_count": 0,
      "outputs": [
        {
          "output_type": "execute_result",
          "data": {
            "text/plain": [
              "24984"
            ]
          },
          "metadata": {
            "tags": []
          },
          "execution_count": 6
        }
      ]
    },
    {
      "cell_type": "code",
      "metadata": {
        "id": "EeCKcNJkazzo",
        "colab_type": "code",
        "outputId": "f251915c-447a-4104-c6fc-e15883bf899d",
        "colab": {
          "base_uri": "https://localhost:8080/",
          "height": 34
        }
      },
      "source": [
        "#code to print images from the data set\n",
        "'''\n",
        "%pylab inline\n",
        "import matplotlib.pyplot as plt\n",
        "import matplotlib.image as mpimg\n",
        "img=mpimg.imread(img_names_sorted[0])\n",
        "imgplot = plt.imshow(img)\n",
        "plt.show()\n",
        "'''"
      ],
      "execution_count": 0,
      "outputs": [
        {
          "output_type": "execute_result",
          "data": {
            "text/plain": [
              "'\\n%pylab inline\\nimport matplotlib.pyplot as plt\\nimport matplotlib.image as mpimg\\nimg=mpimg.imread(img_names_sorted[0])\\nimgplot = plt.imshow(img)\\nplt.show()\\n'"
            ]
          },
          "metadata": {
            "tags": []
          },
          "execution_count": 7
        }
      ]
    },
    {
      "cell_type": "code",
      "metadata": {
        "id": "6SW4Wy2SY1Fw",
        "colab_type": "code",
        "outputId": "b5038470-5210-48b6-bcf6-bbf7e2cba051",
        "colab": {
          "base_uri": "https://localhost:8080/",
          "height": 34
        }
      },
      "source": [
        "'''\n",
        "import cv2\n",
        "import matplotlib.pyplot as plt\n",
        "import matplotlib.image as mpimg\n",
        "test_resized=cv2.resize(img, (256, 256))\n",
        "test_resized.shape\n",
        "'''"
      ],
      "execution_count": 0,
      "outputs": [
        {
          "output_type": "execute_result",
          "data": {
            "text/plain": [
              "'\\nimport cv2\\nimport matplotlib.pyplot as plt\\nimport matplotlib.image as mpimg\\ntest_resized=cv2.resize(img, (256, 256))\\ntest_resized.shape\\n'"
            ]
          },
          "metadata": {
            "tags": []
          },
          "execution_count": 8
        }
      ]
    },
    {
      "cell_type": "markdown",
      "metadata": {
        "id": "2_S0o9kRrLSI",
        "colab_type": "text"
      },
      "source": [
        "As we have tried to read images through mpimg.imread, we faced a computation issue as we were blocked by tha RAM size provided by Google Colab which crashed every time we run this cell.\n",
        "\n",
        "The second attempt was that we tried to read data by chunks (1/8 of data size), but it also went in vain. The code was as below:\n",
        "\n",
        "chunk = int(len(img_names_sorted) / 8.0)    \n",
        "[images.append(mpimg.imread(img_names_sorted[image])) for image in range(chunk)]\n",
        "\n",
        "\n",
        "Consequently, we have decided to do resizing first and then read images. We selected to resize images to 224 * 224 to be fit for use in the ResNet pretrained model (on \"imagenet\" dataset)"
      ]
    },
    {
      "cell_type": "code",
      "metadata": {
        "id": "w8klM35DY-9O",
        "colab_type": "code",
        "outputId": "f6152029-256e-47be-ef1f-b8d101eb4afd",
        "colab": {
          "base_uri": "https://localhost:8080/",
          "height": 437
        }
      },
      "source": [
        "# Reading images one by one and resizing each image to be (224*224*3):\n",
        "\n",
        "images = []   # list to append images in it through the following loop\n",
        "i = 0     # counter to indicate the progress of the following for loop through milestones\n",
        "\n",
        "milestones = [1000, 2000, 3000, 4000, 5000, 6000, 7000, 8000, 9000, 10000,\n",
        "              11000, 12000, 13000, 14000, 15000, 16000, 17000, 18000, 19000, 20000,\n",
        "              21000, 22000, 23000, 24000]\n",
        "\n",
        "for image in range(len(img_names_sorted)):     \n",
        "\n",
        "    img=mpimg.imread(img_names_sorted[image])\n",
        "    img_resized=cv2.resize(img, (224, 224))\n",
        "    images.append(img_resized)\n",
        "    \n",
        "    if i in milestones:\n",
        "      print(\"The iteration number \" + str(i) + \" is completed.\")\n",
        "    \n",
        "    i += 1\n",
        "\n",
        "print(len(images))\n",
        "#print(len(img_names_sorted))"
      ],
      "execution_count": 0,
      "outputs": [
        {
          "output_type": "stream",
          "text": [
            "The iteration number 1000 is completed.\n",
            "The iteration number 2000 is completed.\n",
            "The iteration number 3000 is completed.\n",
            "The iteration number 4000 is completed.\n",
            "The iteration number 5000 is completed.\n",
            "The iteration number 6000 is completed.\n",
            "The iteration number 7000 is completed.\n",
            "The iteration number 8000 is completed.\n",
            "The iteration number 9000 is completed.\n",
            "The iteration number 10000 is completed.\n",
            "The iteration number 11000 is completed.\n",
            "The iteration number 12000 is completed.\n",
            "The iteration number 13000 is completed.\n",
            "The iteration number 14000 is completed.\n",
            "The iteration number 15000 is completed.\n",
            "The iteration number 16000 is completed.\n",
            "The iteration number 17000 is completed.\n",
            "The iteration number 18000 is completed.\n",
            "The iteration number 19000 is completed.\n",
            "The iteration number 20000 is completed.\n",
            "The iteration number 21000 is completed.\n",
            "The iteration number 22000 is completed.\n",
            "The iteration number 23000 is completed.\n",
            "The iteration number 24000 is completed.\n",
            "24984\n"
          ],
          "name": "stdout"
        }
      ]
    },
    {
      "cell_type": "code",
      "metadata": {
        "id": "Y92c1_pBEPv7",
        "colab_type": "code",
        "outputId": "fb0d539d-21d3-4566-a8d4-c2f454d009ad",
        "colab": {
          "base_uri": "https://localhost:8080/",
          "height": 34
        }
      },
      "source": [
        "print(images[12345].shape)"
      ],
      "execution_count": 0,
      "outputs": [
        {
          "output_type": "stream",
          "text": [
            "(224, 224, 3)\n"
          ],
          "name": "stdout"
        }
      ]
    },
    {
      "cell_type": "code",
      "metadata": {
        "id": "c9vmh6yzf-3o",
        "colab_type": "code",
        "colab": {}
      },
      "source": [
        "images_array = np.asarray(images)     # convert the list to array\n"
      ],
      "execution_count": 0,
      "outputs": []
    },
    {
      "cell_type": "code",
      "metadata": {
        "id": "2smlj8cguSXw",
        "colab_type": "code",
        "outputId": "6015ed4f-88be-4afd-dfb7-3c7c80ed8109",
        "colab": {
          "base_uri": "https://localhost:8080/",
          "height": 34
        }
      },
      "source": [
        "images_array.shape     # confirm the size of the array of dataset images after resizing"
      ],
      "execution_count": 0,
      "outputs": [
        {
          "output_type": "execute_result",
          "data": {
            "text/plain": [
              "(24984, 224, 224, 3)"
            ]
          },
          "metadata": {
            "tags": []
          },
          "execution_count": 32
        }
      ]
    },
    {
      "cell_type": "code",
      "metadata": {
        "id": "jxQWD9ZcWYKQ",
        "colab_type": "code",
        "outputId": "8078e546-251e-4b82-9164-90cd91112d7a",
        "colab": {
          "base_uri": "https://localhost:8080/",
          "height": 34
        }
      },
      "source": [
        "os.chdir(root_path1)    \n",
        "print(os.getcwd())"
      ],
      "execution_count": 0,
      "outputs": [
        {
          "output_type": "stream",
          "text": [
            "/content/gdrive/My Drive/DL_Project\n"
          ],
          "name": "stdout"
        }
      ]
    },
    {
      "cell_type": "code",
      "metadata": {
        "id": "RSkgjyZ-1uqa",
        "colab_type": "code",
        "colab": {}
      },
      "source": [
        "# Save the array of dataset images into .npy file for further use in processing images and feeding the model.\n",
        "# We intend to save the computation time of reading & resizing images every time we run the notebook, and use the below .npy file directly:\n",
        "\n",
        "np.save(r\"Dataset_Images_Resized_to_224.npy\", images_array)"
      ],
      "execution_count": 0,
      "outputs": []
    },
    {
      "cell_type": "code",
      "metadata": {
        "id": "tBGHkwII1-hG",
        "colab_type": "code",
        "colab": {}
      },
      "source": [
        ""
      ],
      "execution_count": 0,
      "outputs": []
    }
  ]
}