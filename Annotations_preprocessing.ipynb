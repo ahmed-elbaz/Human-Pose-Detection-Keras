{
  "nbformat": 4,
  "nbformat_minor": 0,
  "metadata": {
    "colab": {
      "name": "Final_Annotationsv1.4_finalWithComments.ipynb",
      "provenance": [],
      "collapsed_sections": []
    },
    "kernelspec": {
      "name": "python3",
      "display_name": "Python 3"
    }
  },
  "cells": [
    {
      "cell_type": "markdown",
      "metadata": {
        "id": "WJkllpA0P0Cx",
        "colab_type": "text"
      },
      "source": [
        "# **Reading Annotations file**"
      ]
    },
    {
      "cell_type": "code",
      "metadata": {
        "id": "G3vR7jStfeUF",
        "colab_type": "code",
        "outputId": "4d079b4f-4dcd-4365-b864-e8bf62c612c7",
        "colab": {
          "base_uri": "https://localhost:8080/",
          "height": 120
        }
      },
      "source": [
        "#Importing drive\n",
        "from google.colab import drive\n",
        "drive.mount('/content/gdrive')"
      ],
      "execution_count": 1,
      "outputs": [
        {
          "output_type": "stream",
          "text": [
            "Go to this URL in a browser: https://accounts.google.com/o/oauth2/auth?client_id=947318989803-6bn6qk8qdgf4n4g3pfee6491hc0brc4i.apps.googleusercontent.com&redirect_uri=urn%3aietf%3awg%3aoauth%3a2.0%3aoob&response_type=code&scope=email%20https%3a%2f%2fwww.googleapis.com%2fauth%2fdocs.test%20https%3a%2f%2fwww.googleapis.com%2fauth%2fdrive%20https%3a%2f%2fwww.googleapis.com%2fauth%2fdrive.photos.readonly%20https%3a%2f%2fwww.googleapis.com%2fauth%2fpeopleapi.readonly\n",
            "\n",
            "Enter your authorization code:\n",
            "··········\n",
            "Mounted at /content/gdrive\n"
          ],
          "name": "stdout"
        }
      ]
    },
    {
      "cell_type": "code",
      "metadata": {
        "id": "_q_Dx0qwfpss",
        "colab_type": "code",
        "outputId": "7a32ef22-882f-46ae-920c-a8de71cd5d27",
        "colab": {
          "base_uri": "https://localhost:8080/",
          "height": 33
        }
      },
      "source": [
        "#Displayig working directory\n",
        "import os\n",
        "os.getcwd()"
      ],
      "execution_count": 2,
      "outputs": [
        {
          "output_type": "execute_result",
          "data": {
            "text/plain": [
              "'/content'"
            ]
          },
          "metadata": {
            "tags": []
          },
          "execution_count": 2
        }
      ]
    },
    {
      "cell_type": "code",
      "metadata": {
        "id": "uANJg9WIgBLf",
        "colab_type": "code",
        "colab": {}
      },
      "source": [
        "#Changing working directory\n",
        "root_path = 'gdrive/My Drive/DL human pose '\n",
        "\n",
        "os.chdir(root_path)"
      ],
      "execution_count": 0,
      "outputs": []
    },
    {
      "cell_type": "code",
      "metadata": {
        "id": "me9Te9ySgX6M",
        "colab_type": "code",
        "outputId": "b6f4bd17-ac7a-4a61-a439-f224ccbac7dc",
        "colab": {
          "base_uri": "https://localhost:8080/",
          "height": 33
        }
      },
      "source": [
        "#Unzip the annotation file\n",
        "import zipfile\n",
        "filename = 'mpii_human_pose_v1_u12_2.zip'\n",
        "with zipfile.ZipFile(filename, 'r') as zip_ref:\n",
        "    zip_ref.extractall()\n",
        "\n",
        "#Confirm the creation of unzipped file\n",
        "os.listdir()\n",
        "\n",
        "#changing directory to annotation file path after unzipping\n",
        "os.chdir('mpii_human_pose_v1_u12_2')\n",
        "\n",
        "#List the files under annotation folder\n",
        "os.listdir()"
      ],
      "execution_count": 4,
      "outputs": [
        {
          "output_type": "execute_result",
          "data": {
            "text/plain": [
              "['bsd.txt', 'mpii_human_pose_v1_u12_1.mat', 'README.md']"
            ]
          },
          "metadata": {
            "tags": []
          },
          "execution_count": 4
        }
      ]
    },
    {
      "cell_type": "code",
      "metadata": {
        "id": "ZQkWcjT_golS",
        "colab_type": "code",
        "outputId": "50536643-9a04-4f73-d410-e2f4cfb4c8b4",
        "colab": {
          "base_uri": "https://localhost:8080/",
          "height": 50
        }
      },
      "source": [
        "#Loading .mat annotation file\n",
        "from scipy.io import loadmat\n",
        "\n",
        "matph = './mpii_human_pose_v1_u12_1.mat'\n",
        "mat = loadmat(matph, struct_as_record=False)\n",
        "release = mat['RELEASE'] \n",
        "print(release, type(release), release.shape)\n",
        "object1 = release[0,0]\n",
        "print(object1._fieldnames)"
      ],
      "execution_count": 5,
      "outputs": [
        {
          "output_type": "stream",
          "text": [
            "[[<scipy.io.matlab.mio5_params.mat_struct object at 0x7f44bcab0cf8>]] <class 'numpy.ndarray'> (1, 1)\n",
            "['annolist', 'img_train', 'version', 'single_person', 'act', 'video_list']\n"
          ],
          "name": "stdout"
        }
      ]
    },
    {
      "cell_type": "markdown",
      "metadata": {
        "id": "iduTQB3LQS5v",
        "colab_type": "text"
      },
      "source": [
        "# **Labels Extraction**"
      ]
    },
    {
      "cell_type": "code",
      "metadata": {
        "id": "cHNfm7RzhABa",
        "colab_type": "code",
        "colab": {}
      },
      "source": [
        "#We will display the contents of all structs but at the end we will focus on act struct to get activity label and annolist to get image\n",
        "#name\n",
        "annolist = object1.__dict__['annolist']\n",
        "img_train = object1.__dict__['img_train']\n",
        "ver = object1.__dict__['version']\n",
        "single_person = object1.__dict__['single_person']\n",
        "activity = object1.__dict__['act']\n",
        "video_list = object1.__dict__['video_list'] "
      ],
      "execution_count": 0,
      "outputs": []
    },
    {
      "cell_type": "code",
      "metadata": {
        "id": "I0kBb_Akmoen",
        "colab_type": "code",
        "outputId": "8e8fefba-a1e1-4599-ef41-85f2b580c0ce",
        "colab": {
          "base_uri": "https://localhost:8080/",
          "height": 167
        }
      },
      "source": [
        "#Exploring activity structure noting that at the end we need to extract act_name\n",
        "print(activity, type(activity), activity.shape)\n",
        "print(activity[5,0]._fieldnames)\n",
        "activity[5,0].__dict__['cat_name'][0]"
      ],
      "execution_count": 7,
      "outputs": [
        {
          "output_type": "stream",
          "text": [
            "[[<scipy.io.matlab.mio5_params.mat_struct object at 0x7f4491386860>]\n",
            " [<scipy.io.matlab.mio5_params.mat_struct object at 0x7f44913869e8>]\n",
            " [<scipy.io.matlab.mio5_params.mat_struct object at 0x7f4491386a20>]\n",
            " ...\n",
            " [<scipy.io.matlab.mio5_params.mat_struct object at 0x7f448f2e29b0>]\n",
            " [<scipy.io.matlab.mio5_params.mat_struct object at 0x7f448f2e29e8>]\n",
            " [<scipy.io.matlab.mio5_params.mat_struct object at 0x7f448f2e2a58>]] <class 'numpy.ndarray'> (24987, 1)\n",
            "['cat_name', 'act_name', 'act_id']\n"
          ],
          "name": "stdout"
        },
        {
          "output_type": "execute_result",
          "data": {
            "text/plain": [
              "'sports'"
            ]
          },
          "metadata": {
            "tags": []
          },
          "execution_count": 7
        }
      ]
    },
    {
      "cell_type": "code",
      "metadata": {
        "id": "TPTJwpeh8d_3",
        "colab_type": "code",
        "outputId": "6a7c23f7-864f-4ce6-84ed-8df7cd0ad008",
        "colab": {
          "base_uri": "https://localhost:8080/",
          "height": 150
        }
      },
      "source": [
        "#Exploring annolist structure noting that at the end we need to extract image name\n",
        "print(annolist, type(annolist), annolist.shape)\n",
        "print(annolist[0,5]._fieldnames)\n",
        "img=annolist[0,5].__dict__['image']\n",
        "img[0,0].__dict__['name'][0]"
      ],
      "execution_count": 8,
      "outputs": [
        {
          "output_type": "stream",
          "text": [
            "[[<scipy.io.matlab.mio5_params.mat_struct object at 0x7f44bcabaef0>\n",
            "  <scipy.io.matlab.mio5_params.mat_struct object at 0x7f44bc829080>\n",
            "  <scipy.io.matlab.mio5_params.mat_struct object at 0x7f44bc829198> ...\n",
            "  <scipy.io.matlab.mio5_params.mat_struct object at 0x7f4491367a20>\n",
            "  <scipy.io.matlab.mio5_params.mat_struct object at 0x7f44913760f0>\n",
            "  <scipy.io.matlab.mio5_params.mat_struct object at 0x7f4491386668>]] <class 'numpy.ndarray'> (1, 24987)\n",
            "['image', 'annorect', 'frame_sec', 'vididx']\n"
          ],
          "name": "stdout"
        },
        {
          "output_type": "execute_result",
          "data": {
            "text/plain": [
              "'015599452.jpg'"
            ]
          },
          "metadata": {
            "tags": []
          },
          "execution_count": 8
        }
      ]
    },
    {
      "cell_type": "code",
      "metadata": {
        "id": "yjaIlEJ1m8Zh",
        "colab_type": "code",
        "colab": {}
      },
      "source": [
        "#Now let's get list with the labels of all images and other list for iamges names noting that for images assigned for testing the activity\n",
        "#was left empty so we will assign the word 'test' for the images that has no activity\n",
        "import numpy as np\n",
        "label=[]\n",
        "image=[]\n",
        "for i in range(len(activity)):\n",
        "  img=annolist[0,i].__dict__['image']\n",
        "  image.append(img[0,0].__dict__['name'][0])\n",
        "  if len(activity[i,0].__dict__['cat_name'])>0:\n",
        "    label.append(activity[i,0].__dict__['cat_name'][0])\n",
        "  else:\n",
        "    label.append(\"test\")"
      ],
      "execution_count": 0,
      "outputs": []
    },
    {
      "cell_type": "markdown",
      "metadata": {
        "id": "6qmEYg9iQsA2",
        "colab_type": "text"
      },
      "source": [
        "# **Labels Exploration**"
      ]
    },
    {
      "cell_type": "code",
      "metadata": {
        "id": "MoDGqZOAn4On",
        "colab_type": "code",
        "outputId": "2d6cb5a9-5ad8-43f7-9d25-42814abff439",
        "colab": {
          "base_uri": "https://localhost:8080/",
          "height": 347
        }
      },
      "source": [
        "#Importing libraries\n",
        "import numpy as np\n",
        "import pandas as pd\n",
        "#It is better to deal with pandas dataframe so we will convert image,label to 2 columns in pandas dataframe\n",
        "df_label = pd.DataFrame(list(zip(image, label)), \n",
        "               columns =['image', 'label']) \n",
        "\n",
        "#Let's output the first 5 rows in the dataframe\n",
        "df_label.head(10)"
      ],
      "execution_count": 11,
      "outputs": [
        {
          "output_type": "execute_result",
          "data": {
            "text/html": [
              "<div>\n",
              "<style scoped>\n",
              "    .dataframe tbody tr th:only-of-type {\n",
              "        vertical-align: middle;\n",
              "    }\n",
              "\n",
              "    .dataframe tbody tr th {\n",
              "        vertical-align: top;\n",
              "    }\n",
              "\n",
              "    .dataframe thead th {\n",
              "        text-align: right;\n",
              "    }\n",
              "</style>\n",
              "<table border=\"1\" class=\"dataframe\">\n",
              "  <thead>\n",
              "    <tr style=\"text-align: right;\">\n",
              "      <th></th>\n",
              "      <th>image</th>\n",
              "      <th>label</th>\n",
              "    </tr>\n",
              "  </thead>\n",
              "  <tbody>\n",
              "    <tr>\n",
              "      <th>0</th>\n",
              "      <td>037454012.jpg</td>\n",
              "      <td>test</td>\n",
              "    </tr>\n",
              "    <tr>\n",
              "      <th>1</th>\n",
              "      <td>095071431.jpg</td>\n",
              "      <td>test</td>\n",
              "    </tr>\n",
              "    <tr>\n",
              "      <th>2</th>\n",
              "      <td>073199394.jpg</td>\n",
              "      <td>test</td>\n",
              "    </tr>\n",
              "    <tr>\n",
              "      <th>3</th>\n",
              "      <td>059865848.jpg</td>\n",
              "      <td>test</td>\n",
              "    </tr>\n",
              "    <tr>\n",
              "      <th>4</th>\n",
              "      <td>015601864.jpg</td>\n",
              "      <td>sports</td>\n",
              "    </tr>\n",
              "    <tr>\n",
              "      <th>5</th>\n",
              "      <td>015599452.jpg</td>\n",
              "      <td>sports</td>\n",
              "    </tr>\n",
              "    <tr>\n",
              "      <th>6</th>\n",
              "      <td>005808361.jpg</td>\n",
              "      <td>sports</td>\n",
              "    </tr>\n",
              "    <tr>\n",
              "      <th>7</th>\n",
              "      <td>086617615.jpg</td>\n",
              "      <td>sports</td>\n",
              "    </tr>\n",
              "    <tr>\n",
              "      <th>8</th>\n",
              "      <td>060111501.jpg</td>\n",
              "      <td>sports</td>\n",
              "    </tr>\n",
              "    <tr>\n",
              "      <th>9</th>\n",
              "      <td>070807258.jpg</td>\n",
              "      <td>sports</td>\n",
              "    </tr>\n",
              "  </tbody>\n",
              "</table>\n",
              "</div>"
            ],
            "text/plain": [
              "           image   label\n",
              "0  037454012.jpg    test\n",
              "1  095071431.jpg    test\n",
              "2  073199394.jpg    test\n",
              "3  059865848.jpg    test\n",
              "4  015601864.jpg  sports\n",
              "5  015599452.jpg  sports\n",
              "6  005808361.jpg  sports\n",
              "7  086617615.jpg  sports\n",
              "8  060111501.jpg  sports\n",
              "9  070807258.jpg  sports"
            ]
          },
          "metadata": {
            "tags": []
          },
          "execution_count": 11
        }
      ]
    },
    {
      "cell_type": "code",
      "metadata": {
        "id": "tvFElDQOFn-X",
        "colab_type": "code",
        "outputId": "d8e55b0b-ab2b-4784-bf6a-9b3324366c4c",
        "colab": {
          "base_uri": "https://localhost:8080/",
          "height": 347
        }
      },
      "source": [
        "#sorting the label dataframe based on the image name ascending\n",
        "df_label = df_label.sort_values(by = 'image')\n",
        "df_label = df_label.reset_index(drop=True)\n",
        "df_label.head(10)"
      ],
      "execution_count": 0,
      "outputs": [
        {
          "output_type": "execute_result",
          "data": {
            "text/html": [
              "<div>\n",
              "<style scoped>\n",
              "    .dataframe tbody tr th:only-of-type {\n",
              "        vertical-align: middle;\n",
              "    }\n",
              "\n",
              "    .dataframe tbody tr th {\n",
              "        vertical-align: top;\n",
              "    }\n",
              "\n",
              "    .dataframe thead th {\n",
              "        text-align: right;\n",
              "    }\n",
              "</style>\n",
              "<table border=\"1\" class=\"dataframe\">\n",
              "  <thead>\n",
              "    <tr style=\"text-align: right;\">\n",
              "      <th></th>\n",
              "      <th>image</th>\n",
              "      <th>label</th>\n",
              "    </tr>\n",
              "  </thead>\n",
              "  <tbody>\n",
              "    <tr>\n",
              "      <th>0</th>\n",
              "      <td>000001163.jpg</td>\n",
              "      <td>volunteer activities</td>\n",
              "    </tr>\n",
              "    <tr>\n",
              "      <th>1</th>\n",
              "      <td>000003072.jpg</td>\n",
              "      <td>sports</td>\n",
              "    </tr>\n",
              "    <tr>\n",
              "      <th>2</th>\n",
              "      <td>000004812.jpg</td>\n",
              "      <td>conditioning exercise</td>\n",
              "    </tr>\n",
              "    <tr>\n",
              "      <th>3</th>\n",
              "      <td>000005283.jpg</td>\n",
              "      <td>walking</td>\n",
              "    </tr>\n",
              "    <tr>\n",
              "      <th>4</th>\n",
              "      <td>000013469.jpg</td>\n",
              "      <td>home activities</td>\n",
              "    </tr>\n",
              "    <tr>\n",
              "      <th>5</th>\n",
              "      <td>000015774.jpg</td>\n",
              "      <td>sports</td>\n",
              "    </tr>\n",
              "    <tr>\n",
              "      <th>6</th>\n",
              "      <td>000022704.jpg</td>\n",
              "      <td>sports</td>\n",
              "    </tr>\n",
              "    <tr>\n",
              "      <th>7</th>\n",
              "      <td>000024087.jpg</td>\n",
              "      <td>test</td>\n",
              "    </tr>\n",
              "    <tr>\n",
              "      <th>8</th>\n",
              "      <td>000024100.jpg</td>\n",
              "      <td>miscellaneous</td>\n",
              "    </tr>\n",
              "    <tr>\n",
              "      <th>9</th>\n",
              "      <td>000024293.jpg</td>\n",
              "      <td>test</td>\n",
              "    </tr>\n",
              "  </tbody>\n",
              "</table>\n",
              "</div>"
            ],
            "text/plain": [
              "           image                  label\n",
              "0  000001163.jpg   volunteer activities\n",
              "1  000003072.jpg                 sports\n",
              "2  000004812.jpg  conditioning exercise\n",
              "3  000005283.jpg                walking\n",
              "4  000013469.jpg        home activities\n",
              "5  000015774.jpg                 sports\n",
              "6  000022704.jpg                 sports\n",
              "7  000024087.jpg                   test\n",
              "8  000024100.jpg          miscellaneous\n",
              "9  000024293.jpg                   test"
            ]
          },
          "metadata": {
            "tags": []
          },
          "execution_count": 18
        }
      ]
    },
    {
      "cell_type": "code",
      "metadata": {
        "id": "qjzV-6D-7K1J",
        "colab_type": "code",
        "outputId": "0d4c160f-f9bd-4392-e7f7-e61fb75db70f",
        "colab": {
          "base_uri": "https://localhost:8080/",
          "height": 50
        }
      },
      "source": [
        "#Now let's display the number of images that are used as test which we will remove later as it is useless\n",
        "#to include unlabelled data unless that we will use it as unsupervised data for pretraining.\n",
        "pd.value_counts(df_label[df_label.label == 'test']['label'])"
      ],
      "execution_count": 16,
      "outputs": [
        {
          "output_type": "execute_result",
          "data": {
            "text/plain": [
              "test    6954\n",
              "Name: label, dtype: int64"
            ]
          },
          "metadata": {
            "tags": []
          },
          "execution_count": 16
        }
      ]
    },
    {
      "cell_type": "code",
      "metadata": {
        "id": "lHGOsob3T5R2",
        "colab_type": "code",
        "colab": {
          "base_uri": "https://localhost:8080/",
          "height": 367
        },
        "outputId": "421a1777-1680-40de-c998-f6fdbc555665"
      },
      "source": [
        "#Displaying number of images for each catgory\n",
        "pd.value_counts(df_label[df_label.label != 'test']['label'])"
      ],
      "execution_count": 14,
      "outputs": [
        {
          "output_type": "execute_result",
          "data": {
            "text/plain": [
              "sports                    3593\n",
              "occupation                2412\n",
              "conditioning exercise     1755\n",
              "home activities           1416\n",
              "lawn and garden           1130\n",
              "home repair               1090\n",
              "water activities          1066\n",
              "winter activities          778\n",
              "miscellaneous              755\n",
              "fishing and hunting        725\n",
              "dancing                    722\n",
              "walking                    608\n",
              "music playing              583\n",
              "bicycling                  533\n",
              "running                    316\n",
              "inactivity quiet/light     189\n",
              "religious activities       124\n",
              "transportation              93\n",
              "self care                   90\n",
              "volunteer activities        55\n",
              "Name: label, dtype: int64"
            ]
          },
          "metadata": {
            "tags": []
          },
          "execution_count": 14
        }
      ]
    },
    {
      "cell_type": "markdown",
      "metadata": {
        "id": "Ghmyd82c7TM6",
        "colab_type": "text"
      },
      "source": [
        "We can notice that 6954 images were reserved as a test dataset which we will need to remove as we don't know the exact labels for these images and separate other images to training and validation to evaluate our model.\n",
        "Also it was observed that the different activities are not equally distributed in the dataset so we need to make stratified sampling during train_test_split to assure that classes distribution is the same in training and validation data"
      ]
    },
    {
      "cell_type": "markdown",
      "metadata": {
        "id": "3PYg0abtRv9u",
        "colab_type": "text"
      },
      "source": [
        "# **Saving lables to csv**"
      ]
    },
    {
      "cell_type": "code",
      "metadata": {
        "id": "pi7GpOXuR5ZN",
        "colab_type": "code",
        "colab": {}
      },
      "source": [
        "#saving a local copy of label dataframe as csv format to load it directly every time we run the code, to avoid wasting time doing all preprocessing from scratch\n",
        "os.chdir(root_path1)\n",
        "df_label.to_csv('names_label.csv', index=False)"
      ],
      "execution_count": 0,
      "outputs": []
    }
  ]
}