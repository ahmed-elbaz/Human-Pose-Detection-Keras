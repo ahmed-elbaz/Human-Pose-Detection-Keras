{
  "nbformat": 4,
  "nbformat_minor": 0,
  "metadata": {
    "colab": {
      "name": "Model_training_v1_3_(VGG16_&_CNN_&_Xception).ipynb",
      "provenance": [],
      "collapsed_sections": [],
      "machine_shape": "hm"
    },
    "kernelspec": {
      "name": "python3",
      "display_name": "Python 3"
    },
    "accelerator": "GPU"
  },
  "cells": [
    {
      "cell_type": "markdown",
      "metadata": {
        "id": "7K2IrDavwRNC",
        "colab_type": "text"
      },
      "source": [
        "# Loading libraries"
      ]
    },
    {
      "cell_type": "code",
      "metadata": {
        "id": "roatBgxxEnn_",
        "colab_type": "code",
        "outputId": "5d1d3aa6-6fef-4bb0-b1c9-246bdfd2bb89",
        "colab": {
          "base_uri": "https://localhost:8080/",
          "height": 1000
        }
      },
      "source": [
        "#upgrade tensorflow and keras\n",
        "!pip install -U tensorflow\n",
        "!pip install -U keras"
      ],
      "execution_count": 1,
      "outputs": [
        {
          "output_type": "stream",
          "text": [
            "Collecting tensorflow\n",
            "\u001b[?25l  Downloading https://files.pythonhosted.org/packages/85/d4/c0cd1057b331bc38b65478302114194bd8e1b9c2bbc06e300935c0e93d90/tensorflow-2.1.0-cp36-cp36m-manylinux2010_x86_64.whl (421.8MB)\n",
            "\u001b[K     |████████████████████████████████| 421.8MB 37kB/s \n",
            "\u001b[?25hRequirement already satisfied, skipping upgrade: google-pasta>=0.1.6 in /usr/local/lib/python3.6/dist-packages (from tensorflow) (0.1.8)\n",
            "Requirement already satisfied, skipping upgrade: opt-einsum>=2.3.2 in /usr/local/lib/python3.6/dist-packages (from tensorflow) (3.1.0)\n",
            "Requirement already satisfied, skipping upgrade: protobuf>=3.8.0 in /usr/local/lib/python3.6/dist-packages (from tensorflow) (3.10.0)\n",
            "Requirement already satisfied, skipping upgrade: termcolor>=1.1.0 in /usr/local/lib/python3.6/dist-packages (from tensorflow) (1.1.0)\n",
            "Collecting tensorflow-estimator<2.2.0,>=2.1.0rc0\n",
            "\u001b[?25l  Downloading https://files.pythonhosted.org/packages/18/90/b77c328a1304437ab1310b463e533fa7689f4bfc41549593056d812fab8e/tensorflow_estimator-2.1.0-py2.py3-none-any.whl (448kB)\n",
            "\u001b[K     |████████████████████████████████| 450kB 43.6MB/s \n",
            "\u001b[?25hRequirement already satisfied, skipping upgrade: wrapt>=1.11.1 in /usr/local/lib/python3.6/dist-packages (from tensorflow) (1.11.2)\n",
            "Requirement already satisfied, skipping upgrade: keras-applications>=1.0.8 in /usr/local/lib/python3.6/dist-packages (from tensorflow) (1.0.8)\n",
            "Requirement already satisfied, skipping upgrade: grpcio>=1.8.6 in /usr/local/lib/python3.6/dist-packages (from tensorflow) (1.15.0)\n",
            "Requirement already satisfied, skipping upgrade: scipy==1.4.1; python_version >= \"3\" in /usr/local/lib/python3.6/dist-packages (from tensorflow) (1.4.1)\n",
            "Requirement already satisfied, skipping upgrade: astor>=0.6.0 in /usr/local/lib/python3.6/dist-packages (from tensorflow) (0.8.1)\n",
            "Requirement already satisfied, skipping upgrade: wheel>=0.26; python_version >= \"3\" in /usr/local/lib/python3.6/dist-packages (from tensorflow) (0.33.6)\n",
            "Collecting tensorboard<2.2.0,>=2.1.0\n",
            "\u001b[?25l  Downloading https://files.pythonhosted.org/packages/40/23/53ffe290341cd0855d595b0a2e7485932f473798af173bbe3a584b99bb06/tensorboard-2.1.0-py3-none-any.whl (3.8MB)\n",
            "\u001b[K     |████████████████████████████████| 3.8MB 33.4MB/s \n",
            "\u001b[?25hRequirement already satisfied, skipping upgrade: six>=1.12.0 in /usr/local/lib/python3.6/dist-packages (from tensorflow) (1.12.0)\n",
            "Requirement already satisfied, skipping upgrade: gast==0.2.2 in /usr/local/lib/python3.6/dist-packages (from tensorflow) (0.2.2)\n",
            "Requirement already satisfied, skipping upgrade: numpy<2.0,>=1.16.0 in /usr/local/lib/python3.6/dist-packages (from tensorflow) (1.17.5)\n",
            "Requirement already satisfied, skipping upgrade: keras-preprocessing>=1.1.0 in /usr/local/lib/python3.6/dist-packages (from tensorflow) (1.1.0)\n",
            "Requirement already satisfied, skipping upgrade: absl-py>=0.7.0 in /usr/local/lib/python3.6/dist-packages (from tensorflow) (0.9.0)\n",
            "Requirement already satisfied, skipping upgrade: setuptools in /usr/local/lib/python3.6/dist-packages (from protobuf>=3.8.0->tensorflow) (42.0.2)\n",
            "Requirement already satisfied, skipping upgrade: h5py in /usr/local/lib/python3.6/dist-packages (from keras-applications>=1.0.8->tensorflow) (2.8.0)\n",
            "Collecting google-auth<2,>=1.6.3\n",
            "\u001b[?25l  Downloading https://files.pythonhosted.org/packages/8d/5f/a1a02695b96d0e09c38abf7d1576b137979cea3d060d60891622cf61276d/google_auth-1.10.1-py2.py3-none-any.whl (76kB)\n",
            "\u001b[K     |████████████████████████████████| 81kB 11.0MB/s \n",
            "\u001b[?25hRequirement already satisfied, skipping upgrade: google-auth-oauthlib<0.5,>=0.4.1 in /usr/local/lib/python3.6/dist-packages (from tensorboard<2.2.0,>=2.1.0->tensorflow) (0.4.1)\n",
            "Requirement already satisfied, skipping upgrade: markdown>=2.6.8 in /usr/local/lib/python3.6/dist-packages (from tensorboard<2.2.0,>=2.1.0->tensorflow) (3.1.1)\n",
            "Requirement already satisfied, skipping upgrade: werkzeug>=0.11.15 in /usr/local/lib/python3.6/dist-packages (from tensorboard<2.2.0,>=2.1.0->tensorflow) (0.16.0)\n",
            "Requirement already satisfied, skipping upgrade: requests<3,>=2.21.0 in /usr/local/lib/python3.6/dist-packages (from tensorboard<2.2.0,>=2.1.0->tensorflow) (2.21.0)\n",
            "Requirement already satisfied, skipping upgrade: pyasn1-modules>=0.2.1 in /usr/local/lib/python3.6/dist-packages (from google-auth<2,>=1.6.3->tensorboard<2.2.0,>=2.1.0->tensorflow) (0.2.7)\n",
            "Requirement already satisfied, skipping upgrade: rsa<4.1,>=3.1.4 in /usr/local/lib/python3.6/dist-packages (from google-auth<2,>=1.6.3->tensorboard<2.2.0,>=2.1.0->tensorflow) (4.0)\n",
            "Requirement already satisfied, skipping upgrade: cachetools<5.0,>=2.0.0 in /usr/local/lib/python3.6/dist-packages (from google-auth<2,>=1.6.3->tensorboard<2.2.0,>=2.1.0->tensorflow) (4.0.0)\n",
            "Requirement already satisfied, skipping upgrade: requests-oauthlib>=0.7.0 in /usr/local/lib/python3.6/dist-packages (from google-auth-oauthlib<0.5,>=0.4.1->tensorboard<2.2.0,>=2.1.0->tensorflow) (1.3.0)\n",
            "Requirement already satisfied, skipping upgrade: urllib3<1.25,>=1.21.1 in /usr/local/lib/python3.6/dist-packages (from requests<3,>=2.21.0->tensorboard<2.2.0,>=2.1.0->tensorflow) (1.24.3)\n",
            "Requirement already satisfied, skipping upgrade: chardet<3.1.0,>=3.0.2 in /usr/local/lib/python3.6/dist-packages (from requests<3,>=2.21.0->tensorboard<2.2.0,>=2.1.0->tensorflow) (3.0.4)\n",
            "Requirement already satisfied, skipping upgrade: idna<2.9,>=2.5 in /usr/local/lib/python3.6/dist-packages (from requests<3,>=2.21.0->tensorboard<2.2.0,>=2.1.0->tensorflow) (2.8)\n",
            "Requirement already satisfied, skipping upgrade: certifi>=2017.4.17 in /usr/local/lib/python3.6/dist-packages (from requests<3,>=2.21.0->tensorboard<2.2.0,>=2.1.0->tensorflow) (2019.11.28)\n",
            "Requirement already satisfied, skipping upgrade: pyasn1<0.5.0,>=0.4.6 in /usr/local/lib/python3.6/dist-packages (from pyasn1-modules>=0.2.1->google-auth<2,>=1.6.3->tensorboard<2.2.0,>=2.1.0->tensorflow) (0.4.8)\n",
            "Requirement already satisfied, skipping upgrade: oauthlib>=3.0.0 in /usr/local/lib/python3.6/dist-packages (from requests-oauthlib>=0.7.0->google-auth-oauthlib<0.5,>=0.4.1->tensorboard<2.2.0,>=2.1.0->tensorflow) (3.1.0)\n",
            "\u001b[31mERROR: tensorboard 2.1.0 has requirement grpcio>=1.24.3, but you'll have grpcio 1.15.0 which is incompatible.\u001b[0m\n",
            "\u001b[31mERROR: google-colab 1.0.0 has requirement google-auth~=1.4.0, but you'll have google-auth 1.10.1 which is incompatible.\u001b[0m\n",
            "Installing collected packages: tensorflow-estimator, google-auth, tensorboard, tensorflow\n",
            "  Found existing installation: tensorflow-estimator 1.15.1\n",
            "    Uninstalling tensorflow-estimator-1.15.1:\n",
            "      Successfully uninstalled tensorflow-estimator-1.15.1\n",
            "  Found existing installation: google-auth 1.4.2\n",
            "    Uninstalling google-auth-1.4.2:\n",
            "      Successfully uninstalled google-auth-1.4.2\n",
            "  Found existing installation: tensorboard 1.15.0\n",
            "    Uninstalling tensorboard-1.15.0:\n",
            "      Successfully uninstalled tensorboard-1.15.0\n",
            "  Found existing installation: tensorflow 1.15.0\n",
            "    Uninstalling tensorflow-1.15.0:\n",
            "      Successfully uninstalled tensorflow-1.15.0\n",
            "Successfully installed google-auth-1.10.1 tensorboard-2.1.0 tensorflow-2.1.0 tensorflow-estimator-2.1.0\n"
          ],
          "name": "stdout"
        },
        {
          "output_type": "display_data",
          "data": {
            "application/vnd.colab-display-data+json": {
              "pip_warning": {
                "packages": [
                  "google"
                ]
              }
            }
          },
          "metadata": {
            "tags": []
          }
        },
        {
          "output_type": "stream",
          "text": [
            "Collecting keras\n",
            "\u001b[?25l  Downloading https://files.pythonhosted.org/packages/ad/fd/6bfe87920d7f4fd475acd28500a42482b6b84479832bdc0fe9e589a60ceb/Keras-2.3.1-py2.py3-none-any.whl (377kB)\n",
            "\r\u001b[K     |▉                               | 10kB 21.2MB/s eta 0:00:01\r\u001b[K     |█▊                              | 20kB 2.9MB/s eta 0:00:01\r\u001b[K     |██▋                             | 30kB 4.2MB/s eta 0:00:01\r\u001b[K     |███▌                            | 40kB 2.8MB/s eta 0:00:01\r\u001b[K     |████▍                           | 51kB 3.5MB/s eta 0:00:01\r\u001b[K     |█████▏                          | 61kB 4.2MB/s eta 0:00:01\r\u001b[K     |██████                          | 71kB 4.8MB/s eta 0:00:01\r\u001b[K     |███████                         | 81kB 5.4MB/s eta 0:00:01\r\u001b[K     |███████▉                        | 92kB 6.0MB/s eta 0:00:01\r\u001b[K     |████████▊                       | 102kB 4.7MB/s eta 0:00:01\r\u001b[K     |█████████▌                      | 112kB 4.7MB/s eta 0:00:01\r\u001b[K     |██████████▍                     | 122kB 4.7MB/s eta 0:00:01\r\u001b[K     |███████████▎                    | 133kB 4.7MB/s eta 0:00:01\r\u001b[K     |████████████▏                   | 143kB 4.7MB/s eta 0:00:01\r\u001b[K     |█████████████                   | 153kB 4.7MB/s eta 0:00:01\r\u001b[K     |█████████████▉                  | 163kB 4.7MB/s eta 0:00:01\r\u001b[K     |██████████████▊                 | 174kB 4.7MB/s eta 0:00:01\r\u001b[K     |███████████████▋                | 184kB 4.7MB/s eta 0:00:01\r\u001b[K     |████████████████▌               | 194kB 4.7MB/s eta 0:00:01\r\u001b[K     |█████████████████▍              | 204kB 4.7MB/s eta 0:00:01\r\u001b[K     |██████████████████▏             | 215kB 4.7MB/s eta 0:00:01\r\u001b[K     |███████████████████             | 225kB 4.7MB/s eta 0:00:01\r\u001b[K     |████████████████████            | 235kB 4.7MB/s eta 0:00:01\r\u001b[K     |████████████████████▉           | 245kB 4.7MB/s eta 0:00:01\r\u001b[K     |█████████████████████▊          | 256kB 4.7MB/s eta 0:00:01\r\u001b[K     |██████████████████████▌         | 266kB 4.7MB/s eta 0:00:01\r\u001b[K     |███████████████████████▍        | 276kB 4.7MB/s eta 0:00:01\r\u001b[K     |████████████████████████▎       | 286kB 4.7MB/s eta 0:00:01\r\u001b[K     |█████████████████████████▏      | 296kB 4.7MB/s eta 0:00:01\r\u001b[K     |██████████████████████████      | 307kB 4.7MB/s eta 0:00:01\r\u001b[K     |██████████████████████████▉     | 317kB 4.7MB/s eta 0:00:01\r\u001b[K     |███████████████████████████▊    | 327kB 4.7MB/s eta 0:00:01\r\u001b[K     |████████████████████████████▋   | 337kB 4.7MB/s eta 0:00:01\r\u001b[K     |█████████████████████████████▌  | 348kB 4.7MB/s eta 0:00:01\r\u001b[K     |██████████████████████████████▍ | 358kB 4.7MB/s eta 0:00:01\r\u001b[K     |███████████████████████████████▏| 368kB 4.7MB/s eta 0:00:01\r\u001b[K     |████████████████████████████████| 378kB 4.7MB/s \n",
            "\u001b[?25hRequirement already satisfied, skipping upgrade: h5py in /usr/local/lib/python3.6/dist-packages (from keras) (2.8.0)\n",
            "Requirement already satisfied, skipping upgrade: six>=1.9.0 in /usr/local/lib/python3.6/dist-packages (from keras) (1.12.0)\n",
            "Requirement already satisfied, skipping upgrade: keras-preprocessing>=1.0.5 in /usr/local/lib/python3.6/dist-packages (from keras) (1.1.0)\n",
            "Requirement already satisfied, skipping upgrade: pyyaml in /usr/local/lib/python3.6/dist-packages (from keras) (3.13)\n",
            "Requirement already satisfied, skipping upgrade: numpy>=1.9.1 in /usr/local/lib/python3.6/dist-packages (from keras) (1.17.5)\n",
            "Requirement already satisfied, skipping upgrade: scipy>=0.14 in /usr/local/lib/python3.6/dist-packages (from keras) (1.4.1)\n",
            "Requirement already satisfied, skipping upgrade: keras-applications>=1.0.6 in /usr/local/lib/python3.6/dist-packages (from keras) (1.0.8)\n",
            "Installing collected packages: keras\n",
            "  Found existing installation: Keras 2.2.5\n",
            "    Uninstalling Keras-2.2.5:\n",
            "      Successfully uninstalled Keras-2.2.5\n",
            "Successfully installed keras-2.3.1\n"
          ],
          "name": "stdout"
        }
      ]
    },
    {
      "cell_type": "code",
      "metadata": {
        "id": "nzNqONPVE3vn",
        "colab_type": "code",
        "outputId": "d808cc0d-b3a7-4ff7-dc7f-ac50ae2eefe0",
        "colab": {
          "base_uri": "https://localhost:8080/",
          "height": 67
        }
      },
      "source": [
        "#check Tensor flow and Keras current version\n",
        "import tensorflow as tf\n",
        "import keras\n",
        "print(tf.__version__)\n",
        "print(keras.__version__)"
      ],
      "execution_count": 2,
      "outputs": [
        {
          "output_type": "stream",
          "text": [
            "2.1.0\n",
            "2.3.1\n"
          ],
          "name": "stdout"
        },
        {
          "output_type": "stream",
          "text": [
            "Using TensorFlow backend.\n"
          ],
          "name": "stderr"
        }
      ]
    },
    {
      "cell_type": "code",
      "metadata": {
        "id": "WhUFjGkEdEF1",
        "colab_type": "code",
        "colab": {}
      },
      "source": [
        "#loading libraries\n",
        "import matplotlib.pyplot as plt\n",
        "import matplotlib.image as mpimg\n",
        "import os\n",
        "import numpy as np\n",
        "import pandas as pd\n",
        "from google.colab import drive\n",
        "from google.colab import files\n",
        "import time\n",
        "import cv2\n",
        "import seaborn as sns"
      ],
      "execution_count": 0,
      "outputs": []
    },
    {
      "cell_type": "code",
      "metadata": {
        "id": "O2p7U5xE9T8e",
        "colab_type": "code",
        "outputId": "9da5f1c1-ef92-4079-968b-d69254be8fd5",
        "colab": {
          "base_uri": "https://localhost:8080/",
          "height": 33
        }
      },
      "source": [
        "#computing runtime\n",
        "start_time = time.time()\n",
        "print(\"--- %s seconds ---\" % (time.time() - start_time))"
      ],
      "execution_count": 4,
      "outputs": [
        {
          "output_type": "stream",
          "text": [
            "--- 0.00011777877807617188 seconds ---\n"
          ],
          "name": "stdout"
        }
      ]
    },
    {
      "cell_type": "markdown",
      "metadata": {
        "id": "fh-2xJ_Iwm6Y",
        "colab_type": "text"
      },
      "source": [
        "# Reading the data"
      ]
    },
    {
      "cell_type": "code",
      "metadata": {
        "id": "yWNRIQZ4JfWB",
        "colab_type": "code",
        "outputId": "aa2b24e1-88cb-4030-9673-dd4ac8892a87",
        "colab": {
          "base_uri": "https://localhost:8080/",
          "height": 120
        }
      },
      "source": [
        "drive.mount('/content/gdrive')\n",
        "root_path1 = 'gdrive/My Drive/DL human pose '  #root path for current Notebook and npy images file\n",
        "#root_path = '/content/gdrive/My Drive/Colab Notebooks/DL_Project/Dataset/resized_20'"
      ],
      "execution_count": 5,
      "outputs": [
        {
          "output_type": "stream",
          "text": [
            "Go to this URL in a browser: https://accounts.google.com/o/oauth2/auth?client_id=947318989803-6bn6qk8qdgf4n4g3pfee6491hc0brc4i.apps.googleusercontent.com&redirect_uri=urn%3aietf%3awg%3aoauth%3a2.0%3aoob&response_type=code&scope=email%20https%3a%2f%2fwww.googleapis.com%2fauth%2fdocs.test%20https%3a%2f%2fwww.googleapis.com%2fauth%2fdrive%20https%3a%2f%2fwww.googleapis.com%2fauth%2fdrive.photos.readonly%20https%3a%2f%2fwww.googleapis.com%2fauth%2fpeopleapi.readonly\n",
            "\n",
            "Enter your authorization code:\n",
            "··········\n",
            "Mounted at /content/gdrive\n"
          ],
          "name": "stdout"
        }
      ]
    },
    {
      "cell_type": "code",
      "metadata": {
        "id": "VSwfZn8AWI09",
        "colab_type": "code",
        "outputId": "71134885-6611-404c-d8c6-ef93604a592c",
        "colab": {
          "base_uri": "https://localhost:8080/",
          "height": 33
        }
      },
      "source": [
        "os.chdir(root_path1) #change current working directory\n",
        "print(os.getcwd())"
      ],
      "execution_count": 6,
      "outputs": [
        {
          "output_type": "stream",
          "text": [
            "/content/gdrive/My Drive/DL human pose \n"
          ],
          "name": "stdout"
        }
      ]
    },
    {
      "cell_type": "code",
      "metadata": {
        "id": "A1MK9yFFXqU2",
        "colab_type": "code",
        "outputId": "0ae874be-fbf6-4ddb-fb7e-32097941ed5b",
        "colab": {
          "base_uri": "https://localhost:8080/",
          "height": 53
        }
      },
      "source": [
        "#code used to transform image names to list \n",
        "'''\n",
        "os.chdir(root_path)\n",
        "img_names = list(os.listdir()) #getting all images names in one list\n",
        "img_names_sorted = list(np.sort(img_names)) #sorted list ascending for image names\n",
        "len(img_names_sorted)\n",
        "'''"
      ],
      "execution_count": 7,
      "outputs": [
        {
          "output_type": "execute_result",
          "data": {
            "text/plain": [
              "'\\nos.chdir(root_path)\\nimg_names = list(os.listdir()) #getting all images names in one list\\nimg_names_sorted = list(np.sort(img_names)) #sorted list ascending for image names\\nlen(img_names_sorted)\\n'"
            ]
          },
          "metadata": {
            "tags": []
          },
          "execution_count": 7
        }
      ]
    },
    {
      "cell_type": "code",
      "metadata": {
        "id": "553xtlFn1a4q",
        "colab_type": "code",
        "outputId": "615ebb0b-de68-4066-c30a-b1881c44297b",
        "colab": {
          "base_uri": "https://localhost:8080/",
          "height": 33
        }
      },
      "source": [
        "#code used to save image names sorted list as .npy file to load it instead of performing the list operation in previus cell everytime we run the code\n",
        "''' \n",
        "os.chdir(root_path1)\n",
        "np.save('image_names.npy', img_names_sorted)\n",
        "'''"
      ],
      "execution_count": 8,
      "outputs": [
        {
          "output_type": "execute_result",
          "data": {
            "text/plain": [
              "\" \\nos.chdir(root_path1)\\nnp.save('image_names.npy', img_names_sorted)\\n\""
            ]
          },
          "metadata": {
            "tags": []
          },
          "execution_count": 8
        }
      ]
    },
    {
      "cell_type": "markdown",
      "metadata": {
        "id": "CIbb3RczCbYn",
        "colab_type": "text"
      },
      "source": [
        "The activity and image names dataframe is accessible through below link  \n",
        "https://drive.google.com/open?id=1-5n6HIzH8Et6-5STeJ2kjuuNSJpLthqe"
      ]
    },
    {
      "cell_type": "code",
      "metadata": {
        "id": "EKvNnWGS88v1",
        "colab_type": "code",
        "colab": {}
      },
      "source": [
        "label_df = pd.read_csv('names_label.csv')"
      ],
      "execution_count": 0,
      "outputs": []
    },
    {
      "cell_type": "code",
      "metadata": {
        "id": "0dW7NaqjIIe8",
        "colab_type": "code",
        "outputId": "64e3b142-9d29-4a2e-93e2-c7ea56569b88",
        "colab": {
          "base_uri": "https://localhost:8080/",
          "height": 296
        }
      },
      "source": [
        "sns.countplot(y = label_df['label'])"
      ],
      "execution_count": 10,
      "outputs": [
        {
          "output_type": "execute_result",
          "data": {
            "text/plain": [
              "<matplotlib.axes._subplots.AxesSubplot at 0x7f743587cdd8>"
            ]
          },
          "metadata": {
            "tags": []
          },
          "execution_count": 10
        },
        {
          "output_type": "display_data",
          "data": {
            "image/png": "[encoded data removed]",
            "text/plain": [
              "<Figure size 432x288 with 1 Axes>"
            ]
          },
          "metadata": {
            "tags": []
          }
        }
      ]
    },
    {
      "cell_type": "code",
      "metadata": {
        "id": "e0-cgCFYBc4_",
        "colab_type": "code",
        "outputId": "0ad82d0e-0b54-4d25-a012-6baf714c72ea",
        "colab": {
          "base_uri": "https://localhost:8080/",
          "height": 383
        }
      },
      "source": [
        "print(label_df['label'].value_counts())"
      ],
      "execution_count": 11,
      "outputs": [
        {
          "output_type": "stream",
          "text": [
            "test                      6954\n",
            "sports                    3593\n",
            "occupation                2412\n",
            "conditioning exercise     1755\n",
            "home activities           1416\n",
            "lawn and garden           1130\n",
            "home repair               1090\n",
            "water activities          1066\n",
            "winter activities          778\n",
            "miscellaneous              755\n",
            "fishing and hunting        725\n",
            "dancing                    722\n",
            "walking                    608\n",
            "music playing              583\n",
            "bicycling                  533\n",
            "running                    316\n",
            "inactivity quiet/light     189\n",
            "religious activities       124\n",
            "transportation              93\n",
            "self care                   90\n",
            "volunteer activities        55\n",
            "Name: label, dtype: int64\n"
          ],
          "name": "stdout"
        }
      ]
    },
    {
      "cell_type": "markdown",
      "metadata": {
        "id": "V9Rer_-zBjuU",
        "colab_type": "text"
      },
      "source": [
        "We can see there is 20 classes in the dataset and most dominant class is sports with count of (3590), this needs to take care during data split to training and validation"
      ]
    },
    {
      "cell_type": "markdown",
      "metadata": {
        "id": "PJN97RMfCAPR",
        "colab_type": "text"
      },
      "source": [
        "## The dataset images after resized to 224, 224 is accessible through below link  \n",
        "https://drive.google.com/open?id=1-5aEFQIa6NDsbMmfBauhEgxS-ipQPEGN\n",
        "\n"
      ]
    },
    {
      "cell_type": "code",
      "metadata": {
        "id": "AU1DbH91bR2n",
        "colab_type": "code",
        "colab": {}
      },
      "source": [
        "loaded_resized_images = np.load('Dataset_Images_Resized_to_224.npy')    # load the resized images (all dataset)\n"
      ],
      "execution_count": 0,
      "outputs": []
    },
    {
      "cell_type": "code",
      "metadata": {
        "id": "1K1nCtQkbwaN",
        "colab_type": "code",
        "outputId": "abf03957-fb2d-48c0-81eb-1565a7f754e2",
        "colab": {
          "base_uri": "https://localhost:8080/",
          "height": 33
        }
      },
      "source": [
        "loaded_resized_images.shape"
      ],
      "execution_count": 13,
      "outputs": [
        {
          "output_type": "execute_result",
          "data": {
            "text/plain": [
              "(24984, 224, 224, 3)"
            ]
          },
          "metadata": {
            "tags": []
          },
          "execution_count": 13
        }
      ]
    },
    {
      "cell_type": "markdown",
      "metadata": {
        "id": "CTWqUfdNxA4g",
        "colab_type": "text"
      },
      "source": [
        "#Data Processing"
      ]
    },
    {
      "cell_type": "code",
      "metadata": {
        "id": "1jj_CMJsb1nu",
        "colab_type": "code",
        "outputId": "8c86e59d-63b9-457b-d56a-9b7289865aba",
        "colab": {
          "base_uri": "https://localhost:8080/",
          "height": 67
        }
      },
      "source": [
        "# Getting the indices of test labels in separate list:\n",
        "\n",
        "label_counter = 0\n",
        "label_indices = []\n",
        "\n",
        "\n",
        "col_labels_list = label_df['label'].tolist()        # convert the label_df['label'] to list\n",
        "\n",
        "# for loop to capture the indices of test images within the whole dataset:\n",
        "for j in range(len(col_labels_list)):\n",
        "    if col_labels_list[j] == 'test':\n",
        "        label_indices.append(label_counter)\n",
        "    \n",
        "    label_counter += 1\n",
        "\n",
        "print(len(label_indices))\n",
        "print(label_indices[0:10])\n",
        "print(label_indices[-1])\n"
      ],
      "execution_count": 14,
      "outputs": [
        {
          "output_type": "stream",
          "text": [
            "6954\n",
            "[7, 9, 12, 16, 19, 21, 22, 24, 26, 27]\n",
            "24984\n"
          ],
          "name": "stdout"
        }
      ]
    },
    {
      "cell_type": "code",
      "metadata": {
        "id": "1aSWIRWDllZs",
        "colab_type": "code",
        "outputId": "f52c413a-2e24-4456-e513-57050973af36",
        "colab": {
          "base_uri": "https://localhost:8080/",
          "height": 50
        }
      },
      "source": [
        "# Create separated lists for train-valid and test:\n",
        "\n",
        "train_valid_list = []\n",
        "test_list = []\n",
        "\n",
        "#train_valid_array = np.empty(shape=(224,224,3))\n",
        "#test_array = np.empty(shape=(224,224,3))\n",
        "\n",
        "# Create list of test images based on the test indices:\n",
        "for k in range(len(label_indices) - 1):\n",
        "    test_list.append(loaded_resized_images[label_indices[k]])\n",
        "\n",
        "print(len(test_list))\n",
        "print(test_list[0].shape)\n",
        "#test_list[589]"
      ],
      "execution_count": 15,
      "outputs": [
        {
          "output_type": "stream",
          "text": [
            "6953\n",
            "(224, 224, 3)\n"
          ],
          "name": "stdout"
        }
      ]
    },
    {
      "cell_type": "code",
      "metadata": {
        "id": "t0rxcdpFrt-m",
        "colab_type": "code",
        "outputId": "38c6acc6-3f75-4cc2-9a75-42d4b7982017",
        "colab": {
          "base_uri": "https://localhost:8080/",
          "height": 83
        }
      },
      "source": [
        "# Create list of train-valid images based on their indices:\n",
        "\n",
        "train_valid_labels = []\n",
        "\n",
        "# for loop to capture create the list of train-valid images:\n",
        "for m in range(len(loaded_resized_images)):\n",
        "\n",
        "    if m not in label_indices:\n",
        "\n",
        "        train_valid_list.append(loaded_resized_images[m])\n",
        "        train_valid_labels.append(col_labels_list[m])\n",
        "\n",
        "print(len(train_valid_list))\n",
        "print(train_valid_list[0].shape)\n",
        "\n",
        "print(len(train_valid_labels))\n",
        "print(train_valid_labels[0:7])"
      ],
      "execution_count": 16,
      "outputs": [
        {
          "output_type": "stream",
          "text": [
            "18031\n",
            "(224, 224, 3)\n",
            "18031\n",
            "['volunteer activities', 'sports', 'conditioning exercise', 'walking', 'home activities', 'sports', 'sports']\n"
          ],
          "name": "stdout"
        }
      ]
    },
    {
      "cell_type": "code",
      "metadata": {
        "id": "iE9XPqFmuy2a",
        "colab_type": "code",
        "outputId": "2eac2719-a7f9-4b0f-8bba-9125a25d89e0",
        "colab": {
          "base_uri": "https://localhost:8080/",
          "height": 67
        }
      },
      "source": [
        "# Convert to arrays:\n",
        "\n",
        "train_valid_array = np.asarray(train_valid_list)\n",
        "train_valid_labels_array= np.asarray(train_valid_labels)\n",
        "\n",
        "test_array = np.asarray(test_list)\n",
        "\n",
        "print(train_valid_array.shape)\n",
        "print(train_valid_labels_array.shape)\n",
        "print(test_array.shape)"
      ],
      "execution_count": 17,
      "outputs": [
        {
          "output_type": "stream",
          "text": [
            "(18031, 224, 224, 3)\n",
            "(18031,)\n",
            "(6953, 224, 224, 3)\n"
          ],
          "name": "stdout"
        }
      ]
    },
    {
      "cell_type": "code",
      "metadata": {
        "id": "W00_QYU_kr_J",
        "colab_type": "code",
        "outputId": "d6b22e4b-ed55-4ca6-db9c-ca0fbf4d003b",
        "colab": {
          "base_uri": "https://localhost:8080/",
          "height": 67
        }
      },
      "source": [
        "# Transform the string labels to integers to be used for multi-class classification:\n",
        "\n",
        "from sklearn.preprocessing import LabelEncoder\n",
        "\n",
        "# prepare targets:\n",
        "\n",
        "def prepare_targets(y_train):\n",
        "\tle = LabelEncoder()\n",
        "\tle.fit(y_train)\n",
        "\ty_train_enc = le.transform(y_train)\n",
        "\treturn y_train_enc\n",
        "\n",
        "train_valid_labels_array_lenc = prepare_targets(train_valid_labels_array)\n",
        "\n",
        "print(train_valid_labels_array_lenc)\n",
        "print(type(train_valid_labels_array_lenc))\n",
        "print(train_valid_labels_array_lenc.shape)"
      ],
      "execution_count": 18,
      "outputs": [
        {
          "output_type": "stream",
          "text": [
            "[16 14  1 ... 10 14 14]\n",
            "<class 'numpy.ndarray'>\n",
            "(18031,)\n"
          ],
          "name": "stdout"
        }
      ]
    },
    {
      "cell_type": "code",
      "metadata": {
        "id": "hlwp_SNqKvF6",
        "colab_type": "code",
        "colab": {}
      },
      "source": [
        "n_classes=len(set(train_valid_labels_array))"
      ],
      "execution_count": 0,
      "outputs": []
    },
    {
      "cell_type": "code",
      "metadata": {
        "id": "TtfqewFrDme5",
        "colab_type": "code",
        "colab": {}
      },
      "source": [
        "from keras import utils\n",
        "from keras.utils import to_categorical\n",
        "#apply one hot encoder using to_categorical on the target  \n",
        "train_valid_labels_array_enc = to_categorical(train_valid_labels_array_lenc, num_classes=n_classes)"
      ],
      "execution_count": 0,
      "outputs": []
    },
    {
      "cell_type": "code",
      "metadata": {
        "id": "i1cVOHciIVq1",
        "colab_type": "code",
        "outputId": "f040c1dd-b533-4ce8-e606-37a5130f1dd9",
        "colab": {
          "base_uri": "https://localhost:8080/",
          "height": 167
        }
      },
      "source": [
        "print(train_valid_labels_array_enc)\n",
        "print(type(train_valid_labels_array_enc))\n",
        "print(train_valid_labels_array_enc.shape)"
      ],
      "execution_count": 21,
      "outputs": [
        {
          "output_type": "stream",
          "text": [
            "[[0. 0. 0. ... 0. 0. 0.]\n",
            " [0. 0. 0. ... 0. 0. 0.]\n",
            " [0. 1. 0. ... 0. 0. 0.]\n",
            " ...\n",
            " [0. 0. 0. ... 0. 0. 0.]\n",
            " [0. 0. 0. ... 0. 0. 0.]\n",
            " [0. 0. 0. ... 0. 0. 0.]]\n",
            "<class 'numpy.ndarray'>\n",
            "(18031, 20)\n"
          ],
          "name": "stdout"
        }
      ]
    },
    {
      "cell_type": "code",
      "metadata": {
        "id": "Om-LES6YvMVH",
        "colab_type": "code",
        "outputId": "0d5b3273-2075-493f-f631-2518bfeef555",
        "colab": {
          "base_uri": "https://localhost:8080/",
          "height": 117
        }
      },
      "source": [
        "# Splitting training and validation images with stratify:\n",
        "\n",
        "from sklearn.model_selection import train_test_split\n",
        "\n",
        "X_train, X_valid1, y_train, y_valid1 = train_test_split(train_valid_array, train_valid_labels_array_enc,\n",
        "                                                    stratify=train_valid_labels_array_enc, \n",
        "                                                    test_size=0.20, random_state=42)\n",
        "\n",
        "X_valid, X_test, y_valid, y_test = train_test_split(X_valid1, y_valid1,\n",
        "                                                    stratify=y_valid1, \n",
        "                                                    test_size=0.10, random_state=42)\n",
        "print(X_train.shape)\n",
        "print(X_valid.shape)\n",
        "print(X_test.shape)\n",
        "print(y_train.shape)\n",
        "print(y_valid.shape)\n",
        "print(y_test.shape)"
      ],
      "execution_count": 22,
      "outputs": [
        {
          "output_type": "stream",
          "text": [
            "(14424, 224, 224, 3)\n",
            "(3246, 224, 224, 3)\n",
            "(361, 224, 224, 3)\n",
            "(14424, 20)\n",
            "(3246, 20)\n",
            "(361, 20)\n"
          ],
          "name": "stdout"
        }
      ]
    },
    {
      "cell_type": "markdown",
      "metadata": {
        "id": "iMq3xRnmxgMg",
        "colab_type": "text"
      },
      "source": [
        "# Using VGG Pretrained Model"
      ]
    },
    {
      "cell_type": "code",
      "metadata": {
        "id": "ilUHrrJ_EDQu",
        "colab_type": "code",
        "colab": {}
      },
      "source": [
        "import sklearn\n",
        "import tensorflow as tf\n",
        "from tensorflow.keras.utils import to_categorical\n",
        "from sklearn.datasets import make_circles\n",
        "from sklearn.metrics import accuracy_score\n",
        "from sklearn.metrics import precision_score\n",
        "from sklearn.metrics import recall_score\n",
        "from sklearn.metrics import f1_score\n",
        "from sklearn.metrics import cohen_kappa_score\n",
        "from sklearn.metrics import roc_auc_score\n",
        "from sklearn.metrics import confusion_matrix\n",
        "from keras import backend as K"
      ],
      "execution_count": 0,
      "outputs": []
    },
    {
      "cell_type": "code",
      "metadata": {
        "id": "fd_ZNPMNXNVx",
        "colab_type": "code",
        "outputId": "88faef21-5420-42c2-83fc-ab772d323334",
        "colab": {
          "base_uri": "https://localhost:8080/",
          "height": 50
        }
      },
      "source": [
        "#using VGG16 model\n",
        "\n",
        "\n",
        "model_vgg16 = keras.applications.vgg16.VGG16(weights='imagenet')\n"
      ],
      "execution_count": 24,
      "outputs": [
        {
          "output_type": "stream",
          "text": [
            "Downloading data from https://github.com/fchollet/deep-learning-models/releases/download/v0.1/vgg16_weights_tf_dim_ordering_tf_kernels.h5\n",
            "553467904/553467096 [==============================] - 14s 0us/step\n"
          ],
          "name": "stdout"
        }
      ]
    },
    {
      "cell_type": "code",
      "metadata": {
        "id": "Cl7EMg9qYe8H",
        "colab_type": "code",
        "colab": {}
      },
      "source": [
        "#model_clone = keras.models.clone_model(model_vgg16)\n",
        "#model_clone.set_weights(model_vgg16.get_weights())\n",
        "\n",
        "modelvgg = keras.models.Sequential(model_vgg16.layers[:-1])\n",
        "modelvgg.add(keras.layers.Dense(n_classes, activation=\"softmax\"))\n",
        "\n",
        "adam=keras.optimizers.Adam(learning_rate=0.01)\n",
        "modelvgg.compile(loss=\"categorical_crossentropy\", optimizer=adam, metrics=[\"accuracy\"])"
      ],
      "execution_count": 0,
      "outputs": []
    },
    {
      "cell_type": "code",
      "metadata": {
        "id": "jVTkmXo1avg0",
        "colab_type": "code",
        "outputId": "062a039a-baa7-44e1-d18c-07d836807f24",
        "colab": {
          "base_uri": "https://localhost:8080/",
          "height": 883
        }
      },
      "source": [
        "modelvgg.summary()"
      ],
      "execution_count": 26,
      "outputs": [
        {
          "output_type": "stream",
          "text": [
            "Model: \"sequential_1\"\n",
            "_________________________________________________________________\n",
            "Layer (type)                 Output Shape              Param #   \n",
            "=================================================================\n",
            "block1_conv1 (Conv2D)        (None, 224, 224, 64)      1792      \n",
            "_________________________________________________________________\n",
            "block1_conv2 (Conv2D)        (None, 224, 224, 64)      36928     \n",
            "_________________________________________________________________\n",
            "block1_pool (MaxPooling2D)   (None, 112, 112, 64)      0         \n",
            "_________________________________________________________________\n",
            "block2_conv1 (Conv2D)        (None, 112, 112, 128)     73856     \n",
            "_________________________________________________________________\n",
            "block2_conv2 (Conv2D)        (None, 112, 112, 128)     147584    \n",
            "_________________________________________________________________\n",
            "block2_pool (MaxPooling2D)   (None, 56, 56, 128)       0         \n",
            "_________________________________________________________________\n",
            "block3_conv1 (Conv2D)        (None, 56, 56, 256)       295168    \n",
            "_________________________________________________________________\n",
            "block3_conv2 (Conv2D)        (None, 56, 56, 256)       590080    \n",
            "_________________________________________________________________\n",
            "block3_conv3 (Conv2D)        (None, 56, 56, 256)       590080    \n",
            "_________________________________________________________________\n",
            "block3_pool (MaxPooling2D)   (None, 28, 28, 256)       0         \n",
            "_________________________________________________________________\n",
            "block4_conv1 (Conv2D)        (None, 28, 28, 512)       1180160   \n",
            "_________________________________________________________________\n",
            "block4_conv2 (Conv2D)        (None, 28, 28, 512)       2359808   \n",
            "_________________________________________________________________\n",
            "block4_conv3 (Conv2D)        (None, 28, 28, 512)       2359808   \n",
            "_________________________________________________________________\n",
            "block4_pool (MaxPooling2D)   (None, 14, 14, 512)       0         \n",
            "_________________________________________________________________\n",
            "block5_conv1 (Conv2D)        (None, 14, 14, 512)       2359808   \n",
            "_________________________________________________________________\n",
            "block5_conv2 (Conv2D)        (None, 14, 14, 512)       2359808   \n",
            "_________________________________________________________________\n",
            "block5_conv3 (Conv2D)        (None, 14, 14, 512)       2359808   \n",
            "_________________________________________________________________\n",
            "block5_pool (MaxPooling2D)   (None, 7, 7, 512)         0         \n",
            "_________________________________________________________________\n",
            "flatten (Flatten)            (None, 25088)             0         \n",
            "_________________________________________________________________\n",
            "fc1 (Dense)                  (None, 4096)              102764544 \n",
            "_________________________________________________________________\n",
            "fc2 (Dense)                  (None, 4096)              16781312  \n",
            "_________________________________________________________________\n",
            "dense_1 (Dense)              (None, 20)                81940     \n",
            "=================================================================\n",
            "Total params: 134,342,484\n",
            "Trainable params: 134,342,484\n",
            "Non-trainable params: 0\n",
            "_________________________________________________________________\n"
          ],
          "name": "stdout"
        }
      ]
    },
    {
      "cell_type": "code",
      "metadata": {
        "id": "gs3Cy70matlF",
        "colab_type": "code",
        "outputId": "8afc3453-cec9-4f96-bf04-432af13a76df",
        "colab": {
          "base_uri": "https://localhost:8080/",
          "height": 517
        }
      },
      "source": [
        "# Early stopping:\n",
        "early_stopping_cb = keras.callbacks.EarlyStopping(patience=10, restore_best_weights=True)\n",
        "\n",
        "# Fit the Model:\n",
        "start_time = time.time()\n",
        "history_vgg = modelvgg.fit(X_train, y_train, epochs=30, validation_data=(X_valid, y_valid), callbacks=[early_stopping_cb])\n",
        "print(\"--- %s seconds ---\" % (time.time() - start_time))"
      ],
      "execution_count": 27,
      "outputs": [
        {
          "output_type": "stream",
          "text": [
            "Train on 14424 samples, validate on 3246 samples\n",
            "Epoch 1/30\n",
            "14424/14424 [==============================] - 134s 9ms/step - loss: 11056929820.4193 - accuracy: 0.1319 - val_loss: 2.6991 - val_accuracy: 0.1993\n",
            "Epoch 2/30\n",
            "14424/14424 [==============================] - 125s 9ms/step - loss: 2.6388 - accuracy: 0.1993 - val_loss: 2.6150 - val_accuracy: 0.1993\n",
            "Epoch 3/30\n",
            "14424/14424 [==============================] - 124s 9ms/step - loss: 2.6120 - accuracy: 0.1993 - val_loss: 2.6086 - val_accuracy: 0.1993\n",
            "Epoch 4/30\n",
            "14424/14424 [==============================] - 124s 9ms/step - loss: 2.6091 - accuracy: 0.1993 - val_loss: 2.6077 - val_accuracy: 0.1993\n",
            "Epoch 5/30\n",
            "14424/14424 [==============================] - 124s 9ms/step - loss: 2.6091 - accuracy: 0.1993 - val_loss: 2.6078 - val_accuracy: 0.1993\n",
            "Epoch 6/30\n",
            "14424/14424 [==============================] - 124s 9ms/step - loss: 2.6087 - accuracy: 0.1993 - val_loss: 2.6085 - val_accuracy: 0.1993\n",
            "Epoch 7/30\n",
            "14424/14424 [==============================] - 124s 9ms/step - loss: 2.6094 - accuracy: 0.1993 - val_loss: 2.6079 - val_accuracy: 0.1993\n",
            "Epoch 8/30\n",
            "14424/14424 [==============================] - 124s 9ms/step - loss: 2.6095 - accuracy: 0.1993 - val_loss: 2.6082 - val_accuracy: 0.1993\n",
            "Epoch 9/30\n",
            "14424/14424 [==============================] - 123s 9ms/step - loss: 2.6094 - accuracy: 0.1993 - val_loss: 2.6078 - val_accuracy: 0.1993\n",
            "Epoch 10/30\n",
            "14424/14424 [==============================] - 123s 9ms/step - loss: 2.6097 - accuracy: 0.1993 - val_loss: 2.6078 - val_accuracy: 0.1993\n",
            "Epoch 11/30\n",
            "14424/14424 [==============================] - 123s 9ms/step - loss: 2.6096 - accuracy: 0.1993 - val_loss: 2.6082 - val_accuracy: 0.1993\n",
            "Epoch 12/30\n",
            "14424/14424 [==============================] - 123s 9ms/step - loss: 2.6093 - accuracy: 0.1993 - val_loss: 2.6088 - val_accuracy: 0.1993\n",
            "Epoch 13/30\n",
            "14424/14424 [==============================] - 123s 9ms/step - loss: 2.6097 - accuracy: 0.1993 - val_loss: 2.6085 - val_accuracy: 0.1993\n",
            "Epoch 14/30\n",
            "14424/14424 [==============================] - 123s 9ms/step - loss: 2.6097 - accuracy: 0.1993 - val_loss: 2.6087 - val_accuracy: 0.1993\n",
            "--- 1744.8910219669342 seconds ---\n"
          ],
          "name": "stdout"
        }
      ]
    },
    {
      "cell_type": "code",
      "metadata": {
        "id": "HRuxHm8GZw8s",
        "colab_type": "code",
        "outputId": "200cb995-30e4-40f2-f7a6-6eef340a9a25",
        "colab": {
          "base_uri": "https://localhost:8080/",
          "height": 324
        }
      },
      "source": [
        "#Plotting loss\n",
        "pd.DataFrame(history_vgg.history).plot(figsize=(8, 5))\n",
        "plt.grid(True)\n",
        "plt.gca().set_ylim(0, 3) # set the vertical range to [0-1]\n",
        "plt.show()"
      ],
      "execution_count": 28,
      "outputs": [
        {
          "output_type": "display_data",
          "data": {
            "image/png": "[encoded data removed]",
            "text/plain": [
              "<Figure size 576x360 with 1 Axes>"
            ]
          },
          "metadata": {
            "tags": []
          }
        }
      ]
    },
    {
      "cell_type": "code",
      "metadata": {
        "id": "j8mxlVOdLGiR",
        "colab_type": "code",
        "outputId": "3d101477-f500-4553-816e-f4b65c8ec82e",
        "colab": {
          "base_uri": "https://localhost:8080/",
          "height": 537
        }
      },
      "source": [
        "#computing the accuracy matrix\n",
        "from sklearn.metrics import classification_report\n",
        "\n",
        "y_pred = modelvgg.predict(X_test, batch_size=64, verbose=1)\n",
        "\n",
        "print(classification_report(np.argmax(y_test, axis=1), np.argmax(y_pred, axis=1)))"
      ],
      "execution_count": 29,
      "outputs": [
        {
          "output_type": "stream",
          "text": [
            "361/361 [==============================] - 3s 8ms/step\n",
            "              precision    recall  f1-score   support\n",
            "\n",
            "           0       0.00      0.00      0.00        11\n",
            "           1       0.00      0.00      0.00        35\n",
            "           2       0.00      0.00      0.00        14\n",
            "           3       0.00      0.00      0.00        15\n",
            "           4       0.00      0.00      0.00        28\n",
            "           5       0.00      0.00      0.00        22\n",
            "           6       0.00      0.00      0.00         4\n",
            "           7       0.00      0.00      0.00        23\n",
            "           8       0.00      0.00      0.00        15\n",
            "           9       0.00      0.00      0.00        12\n",
            "          10       0.00      0.00      0.00        48\n",
            "          11       0.00      0.00      0.00         2\n",
            "          12       0.00      0.00      0.00         6\n",
            "          13       0.00      0.00      0.00         2\n",
            "          14       0.20      1.00      0.33        72\n",
            "          15       0.00      0.00      0.00         2\n",
            "          16       0.00      0.00      0.00         1\n",
            "          17       0.00      0.00      0.00        12\n",
            "          18       0.00      0.00      0.00        21\n",
            "          19       0.00      0.00      0.00        16\n",
            "\n",
            "    accuracy                           0.20       361\n",
            "   macro avg       0.01      0.05      0.02       361\n",
            "weighted avg       0.04      0.20      0.07       361\n",
            "\n"
          ],
          "name": "stdout"
        },
        {
          "output_type": "stream",
          "text": [
            "/usr/local/lib/python3.6/dist-packages/sklearn/metrics/_classification.py:1272: UndefinedMetricWarning: Precision and F-score are ill-defined and being set to 0.0 in labels with no predicted samples. Use `zero_division` parameter to control this behavior.\n",
            "  _warn_prf(average, modifier, msg_start, len(result))\n"
          ],
          "name": "stderr"
        }
      ]
    },
    {
      "cell_type": "markdown",
      "metadata": {
        "id": "azW5W7ZyZOSn",
        "colab_type": "text"
      },
      "source": [
        "It is expected to get poor results as we just replaced the softmax layer of the original VGGNET with another layer and trained so we will have some modification by make the other layers untrainable first for some epochs and remove one fully connected layer as well"
      ]
    },
    {
      "cell_type": "code",
      "metadata": {
        "id": "ZhAsA1GEfm-3",
        "colab_type": "code",
        "outputId": "b120846f-69ea-4798-c7ec-9dec1420b732",
        "colab": {
          "base_uri": "https://localhost:8080/",
          "height": 217
        }
      },
      "source": [
        "vgg_model = keras.applications.vgg16.VGG16(weights='imagenet',\n",
        "                               include_top=False,input_shape=(224, 224, 3))\n",
        "\n",
        "# Creating dictionary that maps layer names to the layers\n",
        "layer_dict = dict([(layer.name, layer) for layer in vgg_model.layers])\n",
        "\n",
        "# Getting output tensor of the last VGG layer that we want to include\n",
        "x = layer_dict['block2_pool'].output\n",
        "\n",
        "# Stacking a new simple convolutional network on top of it    \n",
        "x = keras.layers.Conv2D(filters=64, kernel_size=(3, 3), activation='relu')(x)\n",
        "x = keras.layers.MaxPooling2D(pool_size=(2, 2))(x)\n",
        "x = keras.layers.Flatten()(x)\n",
        "x = keras.layers.Dense(256, activation='relu')(x)\n",
        "x = keras.layers.Dropout(0.5)(x)\n",
        "x = keras.layers.Dense(n_classes, activation='softmax')(x)\n",
        "\n",
        "# Creating new model. Please note that this is NOT a Sequential() model.\n",
        "from keras.models import Model\n",
        "VGGmodel = Model(input=vgg_model.input, output=x)\n",
        "\n",
        "# Pre-trained bottom layers are not trainable\n",
        "for layer in VGGmodel.layers[:7]:\n",
        "    layer.trainable = False\n",
        "\n",
        "#Compliling and fitting\n",
        "adam=keras.optimizers.Adam(learning_rate=0.2)\n",
        "VGGmodel.compile(loss=\"categorical_crossentropy\", optimizer=adam, metrics=[\"accuracy\"])\n",
        "history = VGGmodel.fit(X_train, y_train, epochs=4, validation_data=(X_valid, y_valid))"
      ],
      "execution_count": 30,
      "outputs": [
        {
          "output_type": "stream",
          "text": [
            "Downloading data from https://github.com/fchollet/deep-learning-models/releases/download/v0.1/vgg16_weights_tf_dim_ordering_tf_kernels_notop.h5\n",
            "58892288/58889256 [==============================] - 2s 0us/step\n"
          ],
          "name": "stdout"
        },
        {
          "output_type": "stream",
          "text": [
            "/usr/local/lib/python3.6/dist-packages/ipykernel_launcher.py:20: UserWarning: Update your `Model` call to the Keras 2 API: `Model(inputs=Tensor(\"in..., outputs=Tensor(\"de...)`\n"
          ],
          "name": "stderr"
        },
        {
          "output_type": "stream",
          "text": [
            "Train on 14424 samples, validate on 3246 samples\n",
            "Epoch 1/4\n",
            "14424/14424 [==============================] - 27s 2ms/step - loss: 953294.3212 - accuracy: 0.1887 - val_loss: 2.6353 - val_accuracy: 0.1993\n",
            "Epoch 2/4\n",
            "14424/14424 [==============================] - 27s 2ms/step - loss: 2.6393 - accuracy: 0.1942 - val_loss: 2.6474 - val_accuracy: 0.1993\n",
            "Epoch 3/4\n",
            "14424/14424 [==============================] - 27s 2ms/step - loss: 2.6405 - accuracy: 0.1907 - val_loss: 2.6446 - val_accuracy: 0.1993\n",
            "Epoch 4/4\n",
            "14424/14424 [==============================] - 27s 2ms/step - loss: 2.6384 - accuracy: 0.1933 - val_loss: 2.6278 - val_accuracy: 0.1993\n"
          ],
          "name": "stdout"
        }
      ]
    },
    {
      "cell_type": "code",
      "metadata": {
        "id": "w563nqvnSg6_",
        "colab_type": "code",
        "outputId": "3a860756-1f91-4ece-cac8-554c2a804405",
        "colab": {
          "base_uri": "https://localhost:8080/",
          "height": 550
        }
      },
      "source": [
        "# Pre-trained bottom layers are now trainable\n",
        "for layer in VGGmodel.layers[:7]:\n",
        "    layer.trainable = True\n",
        "\n",
        "#Compiling\n",
        "adam=keras.optimizers.Adam(learning_rate=0.1)\n",
        "VGGmodel.compile(loss=\"categorical_crossentropy\", optimizer=adam, metrics=[\"accuracy\"])\n",
        "\n",
        "# Early stopping:\n",
        "early_stopping_cb = keras.callbacks.EarlyStopping(patience=10, restore_best_weights=True)\n",
        "\n",
        "# Fit the Model:\n",
        "start_time = time.time()\n",
        "history_vgg = VGGmodel.fit(X_train, y_train, epochs=30, validation_data=(X_valid, y_valid), callbacks=[early_stopping_cb])\n",
        "print(\"--- %s seconds ---\" % (time.time() - start_time))"
      ],
      "execution_count": 31,
      "outputs": [
        {
          "output_type": "stream",
          "text": [
            "Train on 14424 samples, validate on 3246 samples\n",
            "Epoch 1/30\n",
            "14424/14424 [==============================] - 61s 4ms/step - loss: 2.6239 - accuracy: 0.1964 - val_loss: 2.6231 - val_accuracy: 0.1993\n",
            "Epoch 2/30\n",
            "14424/14424 [==============================] - 61s 4ms/step - loss: 2.6250 - accuracy: 0.1961 - val_loss: 2.6144 - val_accuracy: 0.1993\n",
            "Epoch 3/30\n",
            "14424/14424 [==============================] - 60s 4ms/step - loss: 2.6262 - accuracy: 0.1990 - val_loss: 2.6177 - val_accuracy: 0.1993\n",
            "Epoch 4/30\n",
            "14424/14424 [==============================] - 60s 4ms/step - loss: 2.6237 - accuracy: 0.1979 - val_loss: 2.6174 - val_accuracy: 0.1993\n",
            "Epoch 5/30\n",
            "14424/14424 [==============================] - 60s 4ms/step - loss: 2.6250 - accuracy: 0.1961 - val_loss: 2.6121 - val_accuracy: 0.1993\n",
            "Epoch 6/30\n",
            "14424/14424 [==============================] - 60s 4ms/step - loss: 2.6261 - accuracy: 0.1979 - val_loss: 2.6252 - val_accuracy: 0.1993\n",
            "Epoch 7/30\n",
            "14424/14424 [==============================] - 60s 4ms/step - loss: 2.6249 - accuracy: 0.1968 - val_loss: 2.6377 - val_accuracy: 0.1993\n",
            "Epoch 8/30\n",
            "14424/14424 [==============================] - 60s 4ms/step - loss: 2.6228 - accuracy: 0.1980 - val_loss: 2.6232 - val_accuracy: 0.1993\n",
            "Epoch 9/30\n",
            "14424/14424 [==============================] - 60s 4ms/step - loss: 2.6263 - accuracy: 0.1959 - val_loss: 2.6298 - val_accuracy: 0.1993\n",
            "Epoch 10/30\n",
            "14424/14424 [==============================] - 60s 4ms/step - loss: 2.6242 - accuracy: 0.1979 - val_loss: 2.6203 - val_accuracy: 0.1993\n",
            "Epoch 11/30\n",
            "14424/14424 [==============================] - 60s 4ms/step - loss: 2.6257 - accuracy: 0.1981 - val_loss: 2.6177 - val_accuracy: 0.1993\n",
            "Epoch 12/30\n",
            "14424/14424 [==============================] - 61s 4ms/step - loss: 2.6234 - accuracy: 0.1965 - val_loss: 2.6212 - val_accuracy: 0.1993\n",
            "Epoch 13/30\n",
            "14424/14424 [==============================] - 60s 4ms/step - loss: 2.6232 - accuracy: 0.1986 - val_loss: 2.6200 - val_accuracy: 0.1993\n",
            "Epoch 14/30\n",
            "14424/14424 [==============================] - 60s 4ms/step - loss: 939044.4416 - accuracy: 0.1972 - val_loss: 2.6292 - val_accuracy: 0.1993\n",
            "Epoch 15/30\n",
            "14424/14424 [==============================] - 60s 4ms/step - loss: 2.6256 - accuracy: 0.1980 - val_loss: 2.6264 - val_accuracy: 0.1993\n",
            "--- 906.983234167099 seconds ---\n"
          ],
          "name": "stdout"
        }
      ]
    },
    {
      "cell_type": "code",
      "metadata": {
        "id": "-wOAskHlSqmu",
        "colab_type": "code",
        "outputId": "8bc7f109-c335-4add-e215-42b5096feda7",
        "colab": {
          "base_uri": "https://localhost:8080/",
          "height": 324
        }
      },
      "source": [
        "pd.DataFrame(history_vgg.history).plot(figsize=(8, 5))\n",
        "plt.grid(True)\n",
        "plt.gca().set_ylim(0, 3) # set the vertical range to [0-1]\n",
        "plt.show()"
      ],
      "execution_count": 32,
      "outputs": [
        {
          "output_type": "display_data",
          "data": {
            "image/png": "[encoded data removed]",
            "text/plain": [
              "<Figure size 576x360 with 1 Axes>"
            ]
          },
          "metadata": {
            "tags": []
          }
        }
      ]
    },
    {
      "cell_type": "code",
      "metadata": {
        "id": "UAt121iiSvJW",
        "colab_type": "code",
        "outputId": "4393e7b7-030a-4136-e8fc-9310cb618bbe",
        "colab": {
          "base_uri": "https://localhost:8080/",
          "height": 537
        }
      },
      "source": [
        "#computing the accuracy matrix\n",
        "from sklearn.metrics import classification_report\n",
        "\n",
        "y_pred = VGGmodel.predict(X_test, batch_size=64, verbose=1)\n",
        "\n",
        "print(classification_report(np.argmax(y_test, axis=1), np.argmax(y_pred, axis=1)))"
      ],
      "execution_count": 33,
      "outputs": [
        {
          "output_type": "stream",
          "text": [
            "361/361 [==============================] - 1s 2ms/step\n",
            "              precision    recall  f1-score   support\n",
            "\n",
            "           0       0.00      0.00      0.00        11\n",
            "           1       0.00      0.00      0.00        35\n",
            "           2       0.00      0.00      0.00        14\n",
            "           3       0.00      0.00      0.00        15\n",
            "           4       0.00      0.00      0.00        28\n",
            "           5       0.00      0.00      0.00        22\n",
            "           6       0.00      0.00      0.00         4\n",
            "           7       0.00      0.00      0.00        23\n",
            "           8       0.00      0.00      0.00        15\n",
            "           9       0.00      0.00      0.00        12\n",
            "          10       0.00      0.00      0.00        48\n",
            "          11       0.00      0.00      0.00         2\n",
            "          12       0.00      0.00      0.00         6\n",
            "          13       0.00      0.00      0.00         2\n",
            "          14       0.20      1.00      0.33        72\n",
            "          15       0.00      0.00      0.00         2\n",
            "          16       0.00      0.00      0.00         1\n",
            "          17       0.00      0.00      0.00        12\n",
            "          18       0.00      0.00      0.00        21\n",
            "          19       0.00      0.00      0.00        16\n",
            "\n",
            "    accuracy                           0.20       361\n",
            "   macro avg       0.01      0.05      0.02       361\n",
            "weighted avg       0.04      0.20      0.07       361\n",
            "\n"
          ],
          "name": "stdout"
        },
        {
          "output_type": "stream",
          "text": [
            "/usr/local/lib/python3.6/dist-packages/sklearn/metrics/_classification.py:1272: UndefinedMetricWarning: Precision and F-score are ill-defined and being set to 0.0 in labels with no predicted samples. Use `zero_division` parameter to control this behavior.\n",
            "  _warn_prf(average, modifier, msg_start, len(result))\n"
          ],
          "name": "stderr"
        }
      ]
    },
    {
      "cell_type": "markdown",
      "metadata": {
        "id": "Op4iRO3eyPmr",
        "colab_type": "text"
      },
      "source": [
        "# Building CNN from Scratch"
      ]
    },
    {
      "cell_type": "code",
      "metadata": {
        "id": "WYnzQD6HZQk1",
        "colab_type": "code",
        "outputId": "1e075203-0193-46e3-d13b-3b3cb684176a",
        "colab": {
          "base_uri": "https://localhost:8080/",
          "height": 650
        }
      },
      "source": [
        "from functools import partial\n",
        "#defining default arguments\n",
        "DefaultConv2D = partial(keras.layers.Conv2D,\n",
        "                        kernel_size=2, activation='relu', padding=\"SAME\")\n",
        "#build CNN model\n",
        "model_CNN_relu = keras.models.Sequential([\n",
        "    DefaultConv2D(filters=25, input_shape=[224, 224, 3]),\n",
        "    keras.layers.MaxPooling2D(pool_size=2),\n",
        "    DefaultConv2D(filters=16),\n",
        "    keras.layers.MaxPooling2D(pool_size=2),\n",
        "    DefaultConv2D(filters=32),\n",
        "    keras.layers.MaxPooling2D(pool_size=2),\n",
        "    DefaultConv2D(filters=64),\n",
        "    keras.layers.MaxPooling2D(pool_size=2),\n",
        "    DefaultConv2D(filters=128),\n",
        "    keras.layers.MaxPooling2D(pool_size=2),\n",
        "    DefaultConv2D(filters=256),\n",
        "    keras.layers.MaxPooling2D(pool_size=2),\n",
        "    DefaultConv2D(filters=512),\n",
        "    keras.layers.MaxPooling2D(pool_size=2),\n",
        "    keras.layers.Flatten(),\n",
        "    keras.layers.Dense(100, activation = 'relu'),\n",
        "    keras.layers.Dense(n_classes, activation = 'softmax')\n",
        "])\n",
        "\n",
        "early_stopping_cb = keras.callbacks.EarlyStopping(patience=15, restore_best_weights=True)\n",
        "\n",
        "adam=keras.optimizers.Adam(learning_rate=0.1)\n",
        "model_CNN_relu.compile(loss=\"categorical_crossentropy\", optimizer=adam)\n",
        "\n",
        "start_time = time.time()\n",
        "history_CNN_relu = model_CNN_relu.fit(X_train, y_train, epochs=50, validation_data=(X_valid, y_valid), callbacks=[early_stopping_cb])\n",
        "print(\"--- %s seconds ---\" % (time.time() - start_time))"
      ],
      "execution_count": 98,
      "outputs": [
        {
          "output_type": "stream",
          "text": [
            "Train on 14424 samples, validate on 3246 samples\n",
            "Epoch 1/50\n",
            "14424/14424 [==============================] - 16s 1ms/step - loss: 630244.4845 - val_loss: 2.6202\n",
            "Epoch 2/50\n",
            "14424/14424 [==============================] - 16s 1ms/step - loss: 2.6204 - val_loss: 2.6255\n",
            "Epoch 3/50\n",
            "14424/14424 [==============================] - 16s 1ms/step - loss: 2.6234 - val_loss: 2.6156\n",
            "Epoch 4/50\n",
            "14424/14424 [==============================] - 16s 1ms/step - loss: 2.6231 - val_loss: 2.6207\n",
            "Epoch 5/50\n",
            "14424/14424 [==============================] - 16s 1ms/step - loss: 2.6233 - val_loss: 2.6281\n",
            "Epoch 6/50\n",
            "14424/14424 [==============================] - 16s 1ms/step - loss: 2.6237 - val_loss: 2.6286\n",
            "Epoch 7/50\n",
            "14424/14424 [==============================] - 16s 1ms/step - loss: 2.6245 - val_loss: 2.6318\n",
            "Epoch 8/50\n",
            "14424/14424 [==============================] - 16s 1ms/step - loss: 2.6232 - val_loss: 2.6230\n",
            "Epoch 9/50\n",
            "14424/14424 [==============================] - 16s 1ms/step - loss: 2.6240 - val_loss: 2.6255\n",
            "Epoch 10/50\n",
            "14424/14424 [==============================] - 17s 1ms/step - loss: 2.6250 - val_loss: 2.6412\n",
            "Epoch 11/50\n",
            "14424/14424 [==============================] - 16s 1ms/step - loss: 2.6249 - val_loss: 2.6257\n",
            "Epoch 12/50\n",
            "14424/14424 [==============================] - 16s 1ms/step - loss: 2.6255 - val_loss: 2.6365\n",
            "Epoch 13/50\n",
            "14424/14424 [==============================] - 16s 1ms/step - loss: 2.6269 - val_loss: 2.6201\n",
            "Epoch 14/50\n",
            "14424/14424 [==============================] - 16s 1ms/step - loss: 2.6239 - val_loss: 2.6175\n",
            "Epoch 15/50\n",
            "14424/14424 [==============================] - 16s 1ms/step - loss: 2.6242 - val_loss: 2.6201\n",
            "Epoch 16/50\n",
            "14424/14424 [==============================] - 16s 1ms/step - loss: 2.6259 - val_loss: 2.6270\n",
            "Epoch 17/50\n",
            "14424/14424 [==============================] - 15s 1ms/step - loss: 2.6257 - val_loss: 2.6283\n",
            "Epoch 18/50\n",
            "14424/14424 [==============================] - 16s 1ms/step - loss: 2.6239 - val_loss: 2.6270\n",
            "--- 287.92265272140503 seconds ---\n"
          ],
          "name": "stdout"
        }
      ]
    },
    {
      "cell_type": "code",
      "metadata": {
        "id": "byUI-GvFbOgr",
        "colab_type": "code",
        "outputId": "82d5a803-f67d-4f43-93e4-5156cf4b08e5",
        "colab": {
          "base_uri": "https://localhost:8080/",
          "height": 324
        }
      },
      "source": [
        "pd.DataFrame(history_CNN_relu.history).plot(figsize=(8, 5))\n",
        "plt.grid(True)\n",
        "plt.gca().set_ylim(2, 3) # set the vertical range to [0-1]\n",
        "plt.show()"
      ],
      "execution_count": 99,
      "outputs": [
        {
          "output_type": "display_data",
          "data": {
            "image/png": "[encoded data removed]",
            "text/plain": [
              "<Figure size 576x360 with 1 Axes>"
            ]
          },
          "metadata": {
            "tags": []
          }
        }
      ]
    },
    {
      "cell_type": "code",
      "metadata": {
        "id": "MLmUcoKN_X2L",
        "colab_type": "code",
        "colab": {
          "base_uri": "https://localhost:8080/",
          "height": 537
        },
        "outputId": "52b7f811-9bb2-4252-b5f9-18f26567ae86"
      },
      "source": [
        "#Getting F1 score\n",
        "y_pred = model_CNN_relu.predict(X_test, batch_size=64, verbose=1)\n",
        "\n",
        "print(classification_report(np.argmax(y_test, axis=1), np.argmax(y_pred, axis=1)))"
      ],
      "execution_count": 103,
      "outputs": [
        {
          "output_type": "stream",
          "text": [
            "361/361 [==============================] - 0s 642us/step\n",
            "              precision    recall  f1-score   support\n",
            "\n",
            "           0       0.00      0.00      0.00        11\n",
            "           1       0.00      0.00      0.00        35\n",
            "           2       0.00      0.00      0.00        14\n",
            "           3       0.00      0.00      0.00        15\n",
            "           4       0.00      0.00      0.00        28\n",
            "           5       0.00      0.00      0.00        22\n",
            "           6       0.00      0.00      0.00         4\n",
            "           7       0.00      0.00      0.00        23\n",
            "           8       0.00      0.00      0.00        15\n",
            "           9       0.00      0.00      0.00        12\n",
            "          10       0.00      0.00      0.00        48\n",
            "          11       0.00      0.00      0.00         2\n",
            "          12       0.00      0.00      0.00         6\n",
            "          13       0.00      0.00      0.00         2\n",
            "          14       0.20      1.00      0.33        72\n",
            "          15       0.00      0.00      0.00         2\n",
            "          16       0.00      0.00      0.00         1\n",
            "          17       0.00      0.00      0.00        12\n",
            "          18       0.00      0.00      0.00        21\n",
            "          19       0.00      0.00      0.00        16\n",
            "\n",
            "    accuracy                           0.20       361\n",
            "   macro avg       0.01      0.05      0.02       361\n",
            "weighted avg       0.04      0.20      0.07       361\n",
            "\n"
          ],
          "name": "stdout"
        },
        {
          "output_type": "stream",
          "text": [
            "/usr/local/lib/python3.6/dist-packages/sklearn/metrics/_classification.py:1272: UndefinedMetricWarning: Precision and F-score are ill-defined and being set to 0.0 in labels with no predicted samples. Use `zero_division` parameter to control this behavior.\n",
            "  _warn_prf(average, modifier, msg_start, len(result))\n"
          ],
          "name": "stderr"
        }
      ]
    },
    {
      "cell_type": "markdown",
      "metadata": {
        "id": "pM6mVjYkbEPe",
        "colab_type": "text"
      },
      "source": [
        "For this built in CNN the loss is still somehow high and it changes very slowly till early stopping ends the training although learning rate is chosed to be 0.1 so let's build less deeper model."
      ]
    },
    {
      "cell_type": "code",
      "metadata": {
        "id": "7Z7fcsp1cyvF",
        "colab_type": "code",
        "colab": {
          "base_uri": "https://localhost:8080/",
          "height": 417
        },
        "outputId": "aa26a378-bce1-4f41-bdf3-79318b464385"
      },
      "source": [
        "model_Less = keras.models.Sequential([\n",
        "keras.layers.Conv2D(filters=25, kernel_size=2, input_shape=[224, 224, 3],activation='relu'),\n",
        "keras.layers.MaxPooling2D(pool_size=2),\n",
        "keras.layers.Conv2D(filters=50, kernel_size=2,activation='relu'),\n",
        "keras.layers.MaxPooling2D(pool_size=2),\n",
        "keras.layers.Conv2D(filters=100, kernel_size=2,activation='relu'),\n",
        "keras.layers.MaxPooling2D(pool_size=2),\n",
        "keras.layers.Flatten(),\n",
        "keras.layers.Dense(20, activation='softmax'),\n",
        "])\n",
        "model_Less.summary()"
      ],
      "execution_count": 100,
      "outputs": [
        {
          "output_type": "stream",
          "text": [
            "Model: \"sequential_31\"\n",
            "_________________________________________________________________\n",
            "Layer (type)                 Output Shape              Param #   \n",
            "=================================================================\n",
            "conv2d_105 (Conv2D)          (None, 223, 223, 25)      325       \n",
            "_________________________________________________________________\n",
            "max_pooling2d_101 (MaxPoolin (None, 111, 111, 25)      0         \n",
            "_________________________________________________________________\n",
            "conv2d_106 (Conv2D)          (None, 110, 110, 50)      5050      \n",
            "_________________________________________________________________\n",
            "max_pooling2d_102 (MaxPoolin (None, 55, 55, 50)        0         \n",
            "_________________________________________________________________\n",
            "conv2d_107 (Conv2D)          (None, 54, 54, 100)       20100     \n",
            "_________________________________________________________________\n",
            "max_pooling2d_103 (MaxPoolin (None, 27, 27, 100)       0         \n",
            "_________________________________________________________________\n",
            "flatten_31 (Flatten)         (None, 72900)             0         \n",
            "_________________________________________________________________\n",
            "dense_51 (Dense)             (None, 20)                1458020   \n",
            "=================================================================\n",
            "Total params: 1,483,495\n",
            "Trainable params: 1,483,495\n",
            "Non-trainable params: 0\n",
            "_________________________________________________________________\n"
          ],
          "name": "stdout"
        }
      ]
    },
    {
      "cell_type": "code",
      "metadata": {
        "id": "YuTwn5w5dwMD",
        "colab_type": "code",
        "colab": {
          "base_uri": "https://localhost:8080/",
          "height": 717
        },
        "outputId": "30b51a7b-c2bc-4b30-ba1c-7b2280638252"
      },
      "source": [
        "early_stopping_cb = keras.callbacks.EarlyStopping(patience=10, restore_best_weights=True)\n",
        "\n",
        "adam=keras.optimizers.Adam(learning_rate=0.1)\n",
        "model_Less.compile(loss=\"categorical_crossentropy\", optimizer=adam)\n",
        "\n",
        "start_time = time.time()\n",
        "history = model_Less.fit(X_train, y_train, epochs=50, validation_data=(X_valid, y_valid), callbacks=[early_stopping_cb])\n",
        "print(\"--- %s seconds ---\" % (time.time() - start_time))"
      ],
      "execution_count": 101,
      "outputs": [
        {
          "output_type": "stream",
          "text": [
            "Train on 14424 samples, validate on 3246 samples\n",
            "Epoch 1/50\n",
            "14424/14424 [==============================] - 16s 1ms/step - loss: 5033.0056 - val_loss: 2.6180\n",
            "Epoch 2/50\n",
            "14424/14424 [==============================] - 16s 1ms/step - loss: 2.6231 - val_loss: 2.6216\n",
            "Epoch 3/50\n",
            "14424/14424 [==============================] - 16s 1ms/step - loss: 2.6254 - val_loss: 2.6234\n",
            "Epoch 4/50\n",
            "14424/14424 [==============================] - 17s 1ms/step - loss: 2.6256 - val_loss: 2.6230\n",
            "Epoch 5/50\n",
            "14424/14424 [==============================] - 17s 1ms/step - loss: 2.6251 - val_loss: 2.6153\n",
            "Epoch 6/50\n",
            "14424/14424 [==============================] - 17s 1ms/step - loss: 2.6236 - val_loss: 2.6156\n",
            "Epoch 7/50\n",
            "14424/14424 [==============================] - 17s 1ms/step - loss: 2.6235 - val_loss: 2.6238\n",
            "Epoch 8/50\n",
            "14424/14424 [==============================] - 17s 1ms/step - loss: 2.6245 - val_loss: 2.6144\n",
            "Epoch 9/50\n",
            "14424/14424 [==============================] - 17s 1ms/step - loss: 2.6237 - val_loss: 2.6170\n",
            "Epoch 10/50\n",
            "14424/14424 [==============================] - 17s 1ms/step - loss: 2.6281 - val_loss: 2.6133\n",
            "Epoch 11/50\n",
            "14424/14424 [==============================] - 17s 1ms/step - loss: 2.6239 - val_loss: 2.6332\n",
            "Epoch 12/50\n",
            "14424/14424 [==============================] - 17s 1ms/step - loss: 2.6247 - val_loss: 2.6290\n",
            "Epoch 13/50\n",
            "14424/14424 [==============================] - 17s 1ms/step - loss: 2.6233 - val_loss: 2.6291\n",
            "Epoch 14/50\n",
            "14424/14424 [==============================] - 17s 1ms/step - loss: 2.6243 - val_loss: 2.6312\n",
            "Epoch 15/50\n",
            "14424/14424 [==============================] - 17s 1ms/step - loss: 2.6245 - val_loss: 2.6240\n",
            "Epoch 16/50\n",
            "14424/14424 [==============================] - 17s 1ms/step - loss: 2.6255 - val_loss: 2.6200\n",
            "Epoch 17/50\n",
            "14424/14424 [==============================] - 17s 1ms/step - loss: 2.6236 - val_loss: 2.6158\n",
            "Epoch 18/50\n",
            "14424/14424 [==============================] - 17s 1ms/step - loss: 2.6254 - val_loss: 2.6157\n",
            "Epoch 19/50\n",
            "14424/14424 [==============================] - 17s 1ms/step - loss: 2.6242 - val_loss: 2.6394\n",
            "Epoch 20/50\n",
            "14424/14424 [==============================] - 17s 1ms/step - loss: 2.6260 - val_loss: 2.6431\n",
            "--- 334.5905520915985 seconds ---\n"
          ],
          "name": "stdout"
        }
      ]
    },
    {
      "cell_type": "code",
      "metadata": {
        "id": "gku2FLOC-4wO",
        "colab_type": "code",
        "colab": {
          "base_uri": "https://localhost:8080/",
          "height": 324
        },
        "outputId": "c3412c72-5d4f-4793-b28f-17d8cd91d5ef"
      },
      "source": [
        "pd.DataFrame(history.history).plot(figsize=(8, 5))\n",
        "plt.grid(True)\n",
        "plt.gca().set_ylim(2, 3) # set the vertical range to [0-1]\n",
        "plt.show()"
      ],
      "execution_count": 102,
      "outputs": [
        {
          "output_type": "display_data",
          "data": {
            "image/png": "[encoded data removed]",
            "text/plain": [
              "<Figure size 576x360 with 1 Axes>"
            ]
          },
          "metadata": {
            "tags": []
          }
        }
      ]
    },
    {
      "cell_type": "code",
      "metadata": {
        "id": "tMXCjo_P_2P6",
        "colab_type": "code",
        "colab": {
          "base_uri": "https://localhost:8080/",
          "height": 653
        },
        "outputId": "8d2d08a4-fa67-43d0-e010-0f2b065fdf0a"
      },
      "source": [
        "#Getting F1 score\n",
        "y_pred = model_Less.predict(X_test, batch_size=64, verbose=1)\n",
        "\n",
        "print(classification_report(np.argmax(y_test, axis=1), np.argmax(y_pred, axis=1)))"
      ],
      "execution_count": 105,
      "outputs": [
        {
          "output_type": "stream",
          "text": [
            "361/361 [==============================] - 0s 571us/step\n",
            "              precision    recall  f1-score   support\n",
            "\n",
            "           0       0.00      0.00      0.00        11\n",
            "           1       0.00      0.00      0.00        35\n",
            "           2       0.00      0.00      0.00        14\n",
            "           3       0.00      0.00      0.00        15\n",
            "           4       0.00      0.00      0.00        28\n",
            "           5       0.00      0.00      0.00        22\n",
            "           6       0.00      0.00      0.00         4\n",
            "           7       0.00      0.00      0.00        23\n",
            "           8       0.00      0.00      0.00        15\n",
            "           9       0.00      0.00      0.00        12\n",
            "          10       0.00      0.00      0.00        48\n",
            "          11       0.00      0.00      0.00         2\n",
            "          12       0.00      0.00      0.00         6\n",
            "          13       0.00      0.00      0.00         2\n",
            "          14       0.20      1.00      0.33        72\n",
            "          15       0.00      0.00      0.00         2\n",
            "          16       0.00      0.00      0.00         1\n",
            "          17       0.00      0.00      0.00        12\n",
            "          18       0.00      0.00      0.00        21\n",
            "          19       0.00      0.00      0.00        16\n",
            "\n",
            "    accuracy                           0.20       361\n",
            "   macro avg       0.01      0.05      0.02       361\n",
            "weighted avg       0.04      0.20      0.07       361\n",
            "\n"
          ],
          "name": "stdout"
        },
        {
          "output_type": "stream",
          "text": [
            "/usr/local/lib/python3.6/dist-packages/sklearn/metrics/_classification.py:1272: UndefinedMetricWarning: Precision and F-score are ill-defined and being set to 0.0 in labels with no predicted samples. Use `zero_division` parameter to control this behavior.\n",
            "  _warn_prf(average, modifier, msg_start, len(result))\n"
          ],
          "name": "stderr"
        },
        {
          "output_type": "execute_result",
          "data": {
            "text/plain": [
              "array([[0., 0., 0., ..., 0., 1., 0.],\n",
              "       [0., 1., 0., ..., 0., 0., 0.],\n",
              "       [0., 0., 0., ..., 0., 0., 0.],\n",
              "       ...,\n",
              "       [0., 0., 0., ..., 0., 0., 0.],\n",
              "       [0., 0., 0., ..., 0., 0., 0.],\n",
              "       [0., 0., 0., ..., 0., 0., 0.]], dtype=float32)"
            ]
          },
          "metadata": {
            "tags": []
          },
          "execution_count": 105
        }
      ]
    },
    {
      "cell_type": "markdown",
      "metadata": {
        "id": "Z8AKTwPuv2cr",
        "colab_type": "text"
      },
      "source": [
        "From the above results we can see that VGG model,built from scratch CNN almost gave the same results"
      ]
    },
    {
      "cell_type": "markdown",
      "metadata": {
        "id": "HECuppzO2du4",
        "colab_type": "text"
      },
      "source": [
        "# Using Xception Pretrained Model"
      ]
    },
    {
      "cell_type": "code",
      "metadata": {
        "id": "Z48ZNt0BjLS7",
        "colab_type": "code",
        "outputId": "c7eb37cc-c522-441b-99d9-7681aa0098c3",
        "colab": {
          "base_uri": "https://localhost:8080/",
          "height": 1000
        }
      },
      "source": [
        "#Building the model\n",
        "base_model = keras.applications.xception.Xception(weights=\"imagenet\",\n",
        "                                                  include_top=False)\n",
        "avg = keras.layers.GlobalAveragePooling2D()(base_model.output)\n",
        "output = keras.layers.Dense(n_classes, activation=\"softmax\")(avg)\n",
        "model_Xception = keras.models.Model(inputs=base_model.input, outputs=output)\n",
        "\n",
        "#Displaying the layers\n",
        "for index, layer in enumerate(base_model.layers):\n",
        "    print(index, layer.name)"
      ],
      "execution_count": 37,
      "outputs": [
        {
          "output_type": "stream",
          "text": [
            "Downloading data from https://github.com/fchollet/deep-learning-models/releases/download/v0.4/xception_weights_tf_dim_ordering_tf_kernels_notop.h5\n",
            "83689472/83683744 [==============================] - 2s 0us/step\n",
            "0 input_3\n",
            "1 block1_conv1\n",
            "2 block1_conv1_bn\n",
            "3 block1_conv1_act\n",
            "4 block1_conv2\n",
            "5 block1_conv2_bn\n",
            "6 block1_conv2_act\n",
            "7 block2_sepconv1\n",
            "8 block2_sepconv1_bn\n",
            "9 block2_sepconv2_act\n",
            "10 block2_sepconv2\n",
            "11 block2_sepconv2_bn\n",
            "12 conv2d_9\n",
            "13 block2_pool\n",
            "14 batch_normalization_1\n",
            "15 add_1\n",
            "16 block3_sepconv1_act\n",
            "17 block3_sepconv1\n",
            "18 block3_sepconv1_bn\n",
            "19 block3_sepconv2_act\n",
            "20 block3_sepconv2\n",
            "21 block3_sepconv2_bn\n",
            "22 conv2d_10\n",
            "23 block3_pool\n",
            "24 batch_normalization_2\n",
            "25 add_2\n",
            "26 block4_sepconv1_act\n",
            "27 block4_sepconv1\n",
            "28 block4_sepconv1_bn\n",
            "29 block4_sepconv2_act\n",
            "30 block4_sepconv2\n",
            "31 block4_sepconv2_bn\n",
            "32 conv2d_11\n",
            "33 block4_pool\n",
            "34 batch_normalization_3\n",
            "35 add_3\n",
            "36 block5_sepconv1_act\n",
            "37 block5_sepconv1\n",
            "38 block5_sepconv1_bn\n",
            "39 block5_sepconv2_act\n",
            "40 block5_sepconv2\n",
            "41 block5_sepconv2_bn\n",
            "42 block5_sepconv3_act\n",
            "43 block5_sepconv3\n",
            "44 block5_sepconv3_bn\n",
            "45 add_4\n",
            "46 block6_sepconv1_act\n",
            "47 block6_sepconv1\n",
            "48 block6_sepconv1_bn\n",
            "49 block6_sepconv2_act\n",
            "50 block6_sepconv2\n",
            "51 block6_sepconv2_bn\n",
            "52 block6_sepconv3_act\n",
            "53 block6_sepconv3\n",
            "54 block6_sepconv3_bn\n",
            "55 add_5\n",
            "56 block7_sepconv1_act\n",
            "57 block7_sepconv1\n",
            "58 block7_sepconv1_bn\n",
            "59 block7_sepconv2_act\n",
            "60 block7_sepconv2\n",
            "61 block7_sepconv2_bn\n",
            "62 block7_sepconv3_act\n",
            "63 block7_sepconv3\n",
            "64 block7_sepconv3_bn\n",
            "65 add_6\n",
            "66 block8_sepconv1_act\n",
            "67 block8_sepconv1\n",
            "68 block8_sepconv1_bn\n",
            "69 block8_sepconv2_act\n",
            "70 block8_sepconv2\n",
            "71 block8_sepconv2_bn\n",
            "72 block8_sepconv3_act\n",
            "73 block8_sepconv3\n",
            "74 block8_sepconv3_bn\n",
            "75 add_7\n",
            "76 block9_sepconv1_act\n",
            "77 block9_sepconv1\n",
            "78 block9_sepconv1_bn\n",
            "79 block9_sepconv2_act\n",
            "80 block9_sepconv2\n",
            "81 block9_sepconv2_bn\n",
            "82 block9_sepconv3_act\n",
            "83 block9_sepconv3\n",
            "84 block9_sepconv3_bn\n",
            "85 add_8\n",
            "86 block10_sepconv1_act\n",
            "87 block10_sepconv1\n",
            "88 block10_sepconv1_bn\n",
            "89 block10_sepconv2_act\n",
            "90 block10_sepconv2\n",
            "91 block10_sepconv2_bn\n",
            "92 block10_sepconv3_act\n",
            "93 block10_sepconv3\n",
            "94 block10_sepconv3_bn\n",
            "95 add_9\n",
            "96 block11_sepconv1_act\n",
            "97 block11_sepconv1\n",
            "98 block11_sepconv1_bn\n",
            "99 block11_sepconv2_act\n",
            "100 block11_sepconv2\n",
            "101 block11_sepconv2_bn\n",
            "102 block11_sepconv3_act\n",
            "103 block11_sepconv3\n",
            "104 block11_sepconv3_bn\n",
            "105 add_10\n",
            "106 block12_sepconv1_act\n",
            "107 block12_sepconv1\n",
            "108 block12_sepconv1_bn\n",
            "109 block12_sepconv2_act\n",
            "110 block12_sepconv2\n",
            "111 block12_sepconv2_bn\n",
            "112 block12_sepconv3_act\n",
            "113 block12_sepconv3\n",
            "114 block12_sepconv3_bn\n",
            "115 add_11\n",
            "116 block13_sepconv1_act\n",
            "117 block13_sepconv1\n",
            "118 block13_sepconv1_bn\n",
            "119 block13_sepconv2_act\n",
            "120 block13_sepconv2\n",
            "121 block13_sepconv2_bn\n",
            "122 conv2d_12\n",
            "123 block13_pool\n",
            "124 batch_normalization_4\n",
            "125 add_12\n",
            "126 block14_sepconv1\n",
            "127 block14_sepconv1_bn\n",
            "128 block14_sepconv1_act\n",
            "129 block14_sepconv2\n",
            "130 block14_sepconv2_bn\n",
            "131 block14_sepconv2_act\n"
          ],
          "name": "stdout"
        }
      ]
    },
    {
      "cell_type": "code",
      "metadata": {
        "id": "XJLG0hrn4aSC",
        "colab_type": "code",
        "outputId": "208009df-04a3-4053-928f-9c3cfe724ac2",
        "colab": {
          "base_uri": "https://localhost:8080/",
          "height": 200
        }
      },
      "source": [
        "#First pre-trained bottom layers are not trainable\n",
        "for layer in base_model.layers:\n",
        "    layer.trainable = False\n",
        "\n",
        "#Compliling and fitting\n",
        "adam=keras.optimizers.Adam(learning_rate=0.2)\n",
        "model_Xception.compile(loss=\"categorical_crossentropy\", optimizer=adam, metrics=[\"accuracy\"])\n",
        "history = model_Xception.fit(X_train, y_train, epochs=5, validation_data=(X_valid, y_valid))"
      ],
      "execution_count": 38,
      "outputs": [
        {
          "output_type": "stream",
          "text": [
            "Train on 14424 samples, validate on 3246 samples\n",
            "Epoch 1/5\n",
            "14424/14424 [==============================] - 66s 5ms/step - loss: 26.6449 - accuracy: 0.0930 - val_loss: 1087.4828 - val_accuracy: 0.0311\n",
            "Epoch 2/5\n",
            "14424/14424 [==============================] - 63s 4ms/step - loss: 25.2066 - accuracy: 0.1243 - val_loss: 965.2070 - val_accuracy: 0.0487\n",
            "Epoch 3/5\n",
            "14424/14424 [==============================] - 63s 4ms/step - loss: 23.7955 - accuracy: 0.1405 - val_loss: 1124.1959 - val_accuracy: 0.0539\n",
            "Epoch 4/5\n",
            "14424/14424 [==============================] - 63s 4ms/step - loss: 26.2466 - accuracy: 0.1482 - val_loss: 2100.1967 - val_accuracy: 0.0527\n",
            "Epoch 5/5\n",
            "14424/14424 [==============================] - 63s 4ms/step - loss: 25.4760 - accuracy: 0.1640 - val_loss: 2054.9449 - val_accuracy: 0.0471\n"
          ],
          "name": "stdout"
        }
      ]
    },
    {
      "cell_type": "code",
      "metadata": {
        "id": "4naJ28Zp5rxB",
        "colab_type": "code",
        "outputId": "2dc260b2-0142-4879-e7e4-3367d4771d42",
        "colab": {
          "base_uri": "https://localhost:8080/",
          "height": 1000
        }
      },
      "source": [
        "# Pre-trained bottom layers are now trainable\n",
        "for layer in base_model.layers:\n",
        "    layer.trainable = False\n",
        "\n",
        "#Compiling\n",
        "adam=keras.optimizers.Adam(learning_rate=0.01)\n",
        "model_Xception.compile(loss=\"categorical_crossentropy\", optimizer=adam, metrics=[\"accuracy\"])\n",
        "\n",
        "# Early stopping:\n",
        "early_stopping_cb = keras.callbacks.EarlyStopping(patience=10, restore_best_weights=True)\n",
        "\n",
        "# Fit the Model:\n",
        "start_time = time.time()\n",
        "history_Xception = model_Xception.fit(X_train, y_train, epochs=30, validation_data=(X_valid, y_valid), callbacks=[early_stopping_cb])\n",
        "print(\"--- %s seconds ---\" % (time.time() - start_time))"
      ],
      "execution_count": 39,
      "outputs": [
        {
          "output_type": "stream",
          "text": [
            "Train on 14424 samples, validate on 3246 samples\n",
            "Epoch 1/30\n",
            "14424/14424 [==============================] - 65s 4ms/step - loss: 12.5596 - accuracy: 0.2601 - val_loss: 1865.1707 - val_accuracy: 0.0410\n",
            "Epoch 2/30\n",
            "14424/14424 [==============================] - 63s 4ms/step - loss: 9.6175 - accuracy: 0.2971 - val_loss: 1898.0554 - val_accuracy: 0.0416\n",
            "Epoch 3/30\n",
            "14424/14424 [==============================] - 63s 4ms/step - loss: 8.4464 - accuracy: 0.3066 - val_loss: 1939.4490 - val_accuracy: 0.0425\n",
            "Epoch 4/30\n",
            "14424/14424 [==============================] - 63s 4ms/step - loss: 7.7579 - accuracy: 0.3157 - val_loss: 1952.5794 - val_accuracy: 0.0441\n",
            "Epoch 5/30\n",
            "14424/14424 [==============================] - 63s 4ms/step - loss: 7.2679 - accuracy: 0.3264 - val_loss: 1877.4798 - val_accuracy: 0.0400\n",
            "Epoch 6/30\n",
            "14424/14424 [==============================] - 63s 4ms/step - loss: 6.7995 - accuracy: 0.3299 - val_loss: 1943.1268 - val_accuracy: 0.0425\n",
            "Epoch 7/30\n",
            "14424/14424 [==============================] - 63s 4ms/step - loss: 6.6152 - accuracy: 0.3239 - val_loss: 1877.2567 - val_accuracy: 0.0437\n",
            "Epoch 8/30\n",
            "14424/14424 [==============================] - 63s 4ms/step - loss: 6.3117 - accuracy: 0.3333 - val_loss: 1867.8597 - val_accuracy: 0.0441\n",
            "Epoch 9/30\n",
            "14424/14424 [==============================] - 63s 4ms/step - loss: 6.0809 - accuracy: 0.3340 - val_loss: 1910.4510 - val_accuracy: 0.0456\n",
            "Epoch 10/30\n",
            "14424/14424 [==============================] - 63s 4ms/step - loss: 5.9607 - accuracy: 0.3336 - val_loss: 1887.2439 - val_accuracy: 0.0413\n",
            "Epoch 11/30\n",
            "14424/14424 [==============================] - 63s 4ms/step - loss: 5.7455 - accuracy: 0.3378 - val_loss: 1767.3939 - val_accuracy: 0.0441\n",
            "Epoch 12/30\n",
            "14424/14424 [==============================] - 64s 4ms/step - loss: 5.6016 - accuracy: 0.3394 - val_loss: 1822.9421 - val_accuracy: 0.0404\n",
            "Epoch 13/30\n",
            "14424/14424 [==============================] - 64s 4ms/step - loss: 5.4518 - accuracy: 0.3381 - val_loss: 1789.2337 - val_accuracy: 0.0434\n",
            "Epoch 14/30\n",
            "14424/14424 [==============================] - 64s 4ms/step - loss: 5.2462 - accuracy: 0.3451 - val_loss: 1765.7683 - val_accuracy: 0.0425\n",
            "Epoch 15/30\n",
            "14424/14424 [==============================] - 64s 4ms/step - loss: 5.1407 - accuracy: 0.3436 - val_loss: 1715.1148 - val_accuracy: 0.0404\n",
            "Epoch 16/30\n",
            "14424/14424 [==============================] - 64s 4ms/step - loss: 5.0846 - accuracy: 0.3408 - val_loss: 1771.2880 - val_accuracy: 0.0394\n",
            "Epoch 17/30\n",
            "14424/14424 [==============================] - 64s 4ms/step - loss: 5.0458 - accuracy: 0.3378 - val_loss: 1665.7136 - val_accuracy: 0.0317\n",
            "Epoch 18/30\n",
            "14424/14424 [==============================] - 64s 4ms/step - loss: 4.8158 - accuracy: 0.3455 - val_loss: 1664.8926 - val_accuracy: 0.0370\n",
            "Epoch 19/30\n",
            "14424/14424 [==============================] - 67s 5ms/step - loss: 4.7711 - accuracy: 0.3503 - val_loss: 1692.1521 - val_accuracy: 0.0339\n",
            "Epoch 20/30\n",
            "14424/14424 [==============================] - 67s 5ms/step - loss: 4.6416 - accuracy: 0.3457 - val_loss: 1661.1471 - val_accuracy: 0.0367\n",
            "Epoch 21/30\n",
            "14424/14424 [==============================] - 64s 4ms/step - loss: 4.5772 - accuracy: 0.3406 - val_loss: 1662.4362 - val_accuracy: 0.0339\n",
            "Epoch 22/30\n",
            "14424/14424 [==============================] - 64s 4ms/step - loss: 4.4965 - accuracy: 0.3462 - val_loss: 1688.7545 - val_accuracy: 0.0376\n",
            "Epoch 23/30\n",
            "14424/14424 [==============================] - 64s 4ms/step - loss: 4.5057 - accuracy: 0.3426 - val_loss: 1733.6098 - val_accuracy: 0.0314\n",
            "Epoch 24/30\n",
            "14424/14424 [==============================] - 63s 4ms/step - loss: 4.3420 - accuracy: 0.3466 - val_loss: 1681.4329 - val_accuracy: 0.0320\n",
            "Epoch 25/30\n",
            "14424/14424 [==============================] - 63s 4ms/step - loss: 4.2948 - accuracy: 0.3415 - val_loss: 1648.2547 - val_accuracy: 0.0308\n",
            "Epoch 26/30\n",
            "14424/14424 [==============================] - 67s 5ms/step - loss: 4.2385 - accuracy: 0.3450 - val_loss: 1555.0215 - val_accuracy: 0.0290\n",
            "Epoch 27/30\n",
            "14424/14424 [==============================] - 64s 4ms/step - loss: 4.1187 - accuracy: 0.3431 - val_loss: 1631.8951 - val_accuracy: 0.0259\n",
            "Epoch 28/30\n",
            "14424/14424 [==============================] - 64s 4ms/step - loss: 4.0653 - accuracy: 0.3451 - val_loss: 1572.6855 - val_accuracy: 0.0283\n",
            "Epoch 29/30\n",
            "14424/14424 [==============================] - 64s 4ms/step - loss: 4.0880 - accuracy: 0.3412 - val_loss: 1579.4309 - val_accuracy: 0.0274\n",
            "Epoch 30/30\n",
            "14424/14424 [==============================] - 64s 4ms/step - loss: 3.9931 - accuracy: 0.3451 - val_loss: 1531.4046 - val_accuracy: 0.0287\n",
            "--- 1914.840886592865 seconds ---\n"
          ],
          "name": "stdout"
        }
      ]
    },
    {
      "cell_type": "code",
      "metadata": {
        "id": "VIhcSj4I8Jfv",
        "colab_type": "code",
        "outputId": "dee73209-dc85-4e0c-9ed7-f69914510eb6",
        "colab": {
          "base_uri": "https://localhost:8080/",
          "height": 324
        }
      },
      "source": [
        "#Drawing loss and accuracy and obviuos overfitting can be seen because validation loss is much higher than training loss\n",
        "pd.DataFrame(history_Xception.history).plot(figsize=(8,5))\n",
        "plt.grid(True)\n",
        "plt.gca().set_ylim(0, 12) # set the vertical range to [0-1]\n",
        "plt.show()"
      ],
      "execution_count": 45,
      "outputs": [
        {
          "output_type": "display_data",
          "data": {
            "image/png": "[encoded data removed]",
            "text/plain": [
              "<Figure size 576x360 with 1 Axes>"
            ]
          },
          "metadata": {
            "tags": []
          }
        }
      ]
    },
    {
      "cell_type": "markdown",
      "metadata": {
        "id": "gkyr9XSkEMnf",
        "colab_type": "text"
      },
      "source": [
        "Severe overfitting witnessed when we removed just the top layers and this expected as Xception network is very deep and amount of data is not enough so we can say that modelvgg is better than all but it just slightly better than built from scratch CNN "
      ]
    },
    {
      "cell_type": "code",
      "metadata": {
        "id": "QVVDRcGiEBTj",
        "colab_type": "code",
        "colab": {}
      },
      "source": [
        ""
      ],
      "execution_count": 0,
      "outputs": []
    }
  ]
}